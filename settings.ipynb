{
 "cells": [
  {
   "cell_type": "markdown",
   "id": "injured-evolution",
   "metadata": {
    "papermill": {},
    "tags": []
   },
   "source": [
    "<img width=\"10%\" alt=\"Naas\" src=\"https://landen.imgix.net/jtci2pxwjczr/assets/5ice39g4.png?w=160\"/>"
   ]
  },
  {
   "cell_type": "markdown",
   "id": "substantial-decline",
   "metadata": {
    "papermill": {},
    "tags": []
   },
   "source": [
    "# Settings"
   ]
  },
  {
   "cell_type": "markdown",
   "id": "d288008a-adf4-47e8-acf5-55a0d2f9ae4e",
   "metadata": {},
   "source": [
    "<div class=\"alert alert-success\" role=\"info\">\n",
    "    <p><b>Note:</b> this data product framework is developped by Naas open source community. You can <a href=\"https://github.com/sponsors/jupyter-naas\" target=\"_blank\">sponsor us</a> if you find it usefull.\n",
    "</p>\n",
    "</div>"
   ]
  },
  {
   "cell_type": "markdown",
   "id": "dd3d4d6a-f15d-47f9-83ac-4208edf13bf9",
   "metadata": {
    "tags": []
   },
   "source": [
    "This notebook allows you to configure and run your data product on your Naas server. *Create an account on [Naas.ai](https://www.naas.ai/free-forever) if you don't already have one.*\n",
    "\n",
    "Please follow the step below to setup this data product."
   ]
  },
  {
   "cell_type": "markdown",
   "id": "3c1d267e-6970-4db2-a20e-469a2dcd2108",
   "metadata": {},
   "source": [
    "## Define your timezone\n",
    "Find the value to setup your timezone on this [page](https://en.wikipedia.org/wiki/List_of_tz_database_time_zones)."
   ]
  },
  {
   "cell_type": "code",
   "execution_count": null,
   "id": "1c63fee2-488c-4e55-af4c-25f4ef1d008d",
   "metadata": {
    "tags": []
   },
   "outputs": [],
   "source": [
    "import naas\n",
    "timezone = naas.set_remote_timezone(\"Europe/Paris\")"
   ]
  },
  {
   "cell_type": "markdown",
   "id": "4df006e1-c200-4a11-9b37-473864001e67",
   "metadata": {},
   "source": [
    "## Install requirements\n",
    "Install the packages required to run the product."
   ]
  },
  {
   "cell_type": "code",
   "execution_count": null,
   "id": "d7e9b5d5-36ff-4ba2-bce8-253367a73949",
   "metadata": {},
   "outputs": [],
   "source": [
    "!pip install --user -r \"requirements.txt\""
   ]
  },
  {
   "cell_type": "markdown",
   "id": "7b5c0b2a-5a00-462f-9b0a-4c3338698bf8",
   "metadata": {
    "tags": []
   },
   "source": [
    "## Load helper\n",
    "This script will set the path of all your folders and create variables that can be reused by the scripts."
   ]
  },
  {
   "cell_type": "code",
   "execution_count": null,
   "id": "bc105bbc-de0f-405c-861c-f9d4ac288932",
   "metadata": {
    "tags": []
   },
   "outputs": [],
   "source": [
    "%run \"utils/__utils__.ipynb\""
   ]
  },
  {
   "cell_type": "markdown",
   "id": "22cd038a-8a54-4ad8-b8d0-95a27a8596de",
   "metadata": {},
   "source": [
    "## Setup input parameters\n",
    "Declare the parameters you want to use in the product.\n",
    "\n",
    "- `TICKER`: the value used by Yahoo (eg. TSLA for Tesla, MSFT for microsoft)\n",
    "- `DATE_FROM`: date minimum to retrieve the data\n",
    "- `DATE_TO`: date maximum to retrieve the data\n",
    "- `INTERVAL`: interval of days the data is retrieved (1d, 2d...) \n",
    "- `DATA_POINT`: number of days (data points) to predict in the future\n",
    "- `EMAIL_TO`: list of emails that will receive the notification\n",
    "- `CRON_SCHEDULE`: cron scheduler expression (check [this website](https://crontab.guru/) to find the one that suits you)"
   ]
  },
  {
   "cell_type": "code",
   "execution_count": null,
   "id": "fa902c66-074f-4413-bacb-a2ae0e8ab3bf",
   "metadata": {
    "tags": []
   },
   "outputs": [],
   "source": [
    "TICKER = \"TSLA\"\n",
    "DATE_FROM = -100\n",
    "DATE_TO = 'today'\n",
    "INTERVAL = '1d'\n",
    "DATA_POINT = 20\n",
    "EMAIL_TO = [\"hello@naas.ai\"]\n",
    "CRON_SCHEDULE = \"0 9 * * *\""
   ]
  },
  {
   "cell_type": "markdown",
   "id": "d63ce0a1-c290-42c5-9168-ce95bfc86519",
   "metadata": {},
   "source": [
    "## Save input parameters\n",
    "Save the parameters as an input file to be reused in the other components of the product. "
   ]
  },
  {
   "cell_type": "code",
   "execution_count": null,
   "id": "fa796f6f-4d08-44ed-966d-ba28baf20d7e",
   "metadata": {
    "tags": []
   },
   "outputs": [],
   "source": [
    "# Send params to inputs\n",
    "parameters = {\n",
    "    \"TICKER\": TICKER,\n",
    "    \"DATE_FROM\": DATE_FROM,\n",
    "    \"DATE_TO\": DATE_TO,\n",
    "    \"INTERVAL\": INTERVAL,\n",
    "    \"DATA_POINT\": DATA_POINT,\n",
    "    \"EMAIL_TO\": EMAIL_TO\n",
    "}\n",
    "save_parameters(parameters)"
   ]
  },
  {
   "cell_type": "markdown",
   "id": "5f8e72bd-351f-40d6-af34-ce430aeb4650",
   "metadata": {},
   "source": [
    "## Test staging execution \n",
    "Check that the pipeline(s) are working without errors in the current staging environment. "
   ]
  },
  {
   "cell_type": "code",
   "execution_count": null,
   "id": "b5c04846-50fd-4f04-bb7b-fd23d60d7a4d",
   "metadata": {
    "tags": []
   },
   "outputs": [],
   "source": [
    "PIPELINE_PATH = os.path.join(MODELS_PATH, \"__pipeline__.ipynb\")\n",
    "%run $PIPELINE_PATH"
   ]
  },
  {
   "cell_type": "markdown",
   "id": "7518ff30-b586-406d-9261-6759d9bceab7",
   "metadata": {},
   "source": [
    "## Publish to production\n",
    "Publish all the staging files into production folder for scheduled execution."
   ]
  },
  {
   "cell_type": "code",
   "execution_count": null,
   "id": "20bfa420-8d7a-4d8f-8b2a-aa95dae9b750",
   "metadata": {
    "tags": []
   },
   "outputs": [],
   "source": [
    "publish_all()"
   ]
  },
  {
   "cell_type": "markdown",
   "id": "ba73f0db-f6f2-4db0-be83-debf946d9e8b",
   "metadata": {},
   "source": [
    "## Schedule in production\n",
    "This section will schedule the pipeline(s) to run automatically based on the cron expression in parameters."
   ]
  },
  {
   "cell_type": "code",
   "execution_count": null,
   "id": "b8b694e0-2426-4d1d-aa0e-3bc7bf11c32a",
   "metadata": {
    "tags": []
   },
   "outputs": [],
   "source": [
    "import naas\n",
    "naas.scheduler.add(path=PIPELINE_PATH, cron=CRON_SCHEDULE)"
   ]
  },
  {
   "cell_type": "markdown",
   "id": "f1fa4922-b99e-4115-a3c7-2e8619060c7b",
   "metadata": {},
   "source": [
    "## Visualize network graph"
   ]
  },
  {
   "cell_type": "code",
   "execution_count": null,
   "id": "829af97d-3107-4db2-aa46-b8a336f34ed5",
   "metadata": {
    "tags": []
   },
   "outputs": [],
   "source": [
    "generate_network()"
   ]
  }
 ],
 "metadata": {
  "kernelspec": {
   "display_name": "Python 3",
   "language": "python",
   "name": "python3"
  },
  "language_info": {
   "codemirror_mode": {
    "name": "ipython",
    "version": 3
   },
   "file_extension": ".py",
   "mimetype": "text/x-python",
   "name": "python",
   "nbconvert_exporter": "python",
   "pygments_lexer": "ipython3",
   "version": "3.9.6"
  },
  "naas": {
   "notebook_id": "77b7f93a-fb2a-483e-b98b-80735e426a64",
   "notebook_path": "Naas/Naas_Secret_demo.ipynb"
  },
  "papermill": {
   "default_parameters": {},
   "environment_variables": {},
   "parameters": {},
   "version": "2.3.3"
  },
  "toc-autonumbering": false,
  "widgets": {
   "application/vnd.jupyter.widget-state+json": {
    "state": {},
    "version_major": 2,
    "version_minor": 0
   }
  }
 },
 "nbformat": 4,
 "nbformat_minor": 5
}
