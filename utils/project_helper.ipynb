{
 "cells": [
  {
   "cell_type": "markdown",
   "id": "0fe69480-22c1-4927-9217-6bdb459b5d56",
   "metadata": {},
   "source": [
    "<img width=\"10%\" alt=\"Naas\" src=\"https://landen.imgix.net/jtci2pxwjczr/assets/5ice39g4.png?w=160\"/>"
   ]
  },
  {
   "cell_type": "markdown",
   "id": "1da2bba4-1b4c-4daa-a7c8-487c3a740eba",
   "metadata": {},
   "source": [
    "# Project helper"
   ]
  },
  {
   "cell_type": "markdown",
   "id": "a03e20c0-49a0-4204-b5f9-c1f89850dd8b",
   "metadata": {},
   "source": [
    "## Input"
   ]
  },
  {
   "cell_type": "markdown",
   "id": "dbc31862-a80f-4f73-b41c-45c616c7991b",
   "metadata": {},
   "source": [
    "### Import libraries"
   ]
  },
  {
   "cell_type": "code",
   "execution_count": 1,
   "id": "ee961415-6782-4a06-96e8-f6ab708631a3",
   "metadata": {
    "execution": {
     "iopub.execute_input": "2022-09-08T07:39:40.763829Z",
     "iopub.status.busy": "2022-09-08T07:39:40.763480Z",
     "iopub.status.idle": "2022-09-08T07:39:40.834261Z",
     "shell.execute_reply": "2022-09-08T07:39:40.833588Z",
     "shell.execute_reply.started": "2022-09-08T07:39:40.763740Z"
    },
    "tags": []
   },
   "outputs": [],
   "source": [
    "import os\n",
    "import json\n",
    "import glob\n",
    "from tqdm import tqdm"
   ]
  },
  {
   "cell_type": "markdown",
   "id": "17772827-ea8b-4d47-be40-8be22d3a6568",
   "metadata": {},
   "source": [
    "## Model"
   ]
  },
  {
   "cell_type": "markdown",
   "id": "42acd9cc-0563-40df-87c9-2042807a41e3",
   "metadata": {},
   "source": [
    "### Setup project folders"
   ]
  },
  {
   "cell_type": "code",
   "execution_count": null,
   "id": "97200f52-d6d6-46c9-81b4-70d7e10caa70",
   "metadata": {
    "tags": []
   },
   "outputs": [],
   "source": [
    "INPUTS_PATH = os.path.join(ROOT_PATH, 'inputs')\n",
    "MODELS_PATH = os.path.join(ROOT_PATH, 'models')\n",
    "OUTPUTS_PATH = os.path.join(ROOT_PATH, 'outputs')"
   ]
  },
  {
   "cell_type": "markdown",
   "id": "de67e254-7766-484d-9293-c5767144e25d",
   "metadata": {},
   "source": [
    "### Setup project files"
   ]
  },
  {
   "cell_type": "code",
   "execution_count": null,
   "id": "19d4ad4a-838e-4857-8403-4603ddeef4cd",
   "metadata": {},
   "outputs": [],
   "source": [
    "# File name\n",
    "PARAMS_NAME = 'params.json'\n",
    "ASSETS_NAME = '__naas_assets__.json'\n",
    "\n",
    "# File path\n",
    "PARAMS_PATH = os.path.join(INPUTS_PATH, PARAMS_NAME)\n",
    "ASSETS_PATH = os.path.join(OUTPUTS_PATH, ASSETS_NAME)"
   ]
  },
  {
   "cell_type": "markdown",
   "id": "99e42b26-da81-47f5-b117-9099cb9b60d4",
   "metadata": {},
   "source": [
    "### Get params"
   ]
  },
  {
   "cell_type": "code",
   "execution_count": null,
   "id": "964c371e-ddf1-4360-aa5d-92eb8ae992ea",
   "metadata": {},
   "outputs": [],
   "source": [
    "if os.path.exists(PARAMS_PATH):\n",
    "    with open(PARAMS_PATH) as f:\n",
    "        PARAMS = json.load(f)"
   ]
  },
  {
   "cell_type": "markdown",
   "id": "c56e7467-89b1-4d83-9633-96453709a143",
   "metadata": {},
   "source": [
    "### Save params"
   ]
  },
  {
   "cell_type": "code",
   "execution_count": null,
   "id": "8b113cd6-5ce4-4c8f-9e60-2cfac3c604a1",
   "metadata": {},
   "outputs": [],
   "source": [
    "def save_parameters(data):\n",
    "    with open(PARAMS_PATH, 'w') as f:\n",
    "        json.dump(data, f, indent=4)\n",
    "        print(f\"✅ Parameters saved successfully.\")"
   ]
  },
  {
   "cell_type": "markdown",
   "id": "def8b37b-c26d-45fa-aa00-07346c06b327",
   "metadata": {},
   "source": [
    "### Run pipeline"
   ]
  },
  {
   "cell_type": "code",
   "execution_count": null,
   "id": "05cd01cc-6e3b-4693-9164-464c3477a766",
   "metadata": {},
   "outputs": [],
   "source": [
    "def run_pipeline(pipeline):\n",
    "    for notebook in tqdm(pipeline):\n",
    "        print(\"➡️ Started running notebook:\", notebook)\n",
    "        if not path.exists(notebook):\n",
    "            notebook = path.join(MODELS_PATH, notebook)\n",
    "        %run \"$notebook\"\n",
    "        print(\"\\n\")"
   ]
  },
  {
   "cell_type": "markdown",
   "id": "272c17d3-04c5-45e1-8cb8-0b8f9a3fdc72",
   "metadata": {},
   "source": [
    "### Publish to production"
   ]
  },
  {
   "cell_type": "code",
   "execution_count": null,
   "id": "63c2c8ff-7b66-4281-8fca-1ebf2b664ffc",
   "metadata": {},
   "outputs": [],
   "source": [
    "def publish_all():\n",
    "    files = f\"{ROOT_PATH}/**/*\"\n",
    "\n",
    "    for file in tqdm(glob.glob(files)):\n",
    "        naas.dependency.add(file, print_result=False)\n",
    "    print(\"✅ Project published to production successfully.\")"
   ]
  },
  {
   "cell_type": "markdown",
   "id": "fe18dc36-3eda-4b3d-8ce5-0a5f3edccde0",
   "metadata": {},
   "source": [
    "## Output"
   ]
  },
  {
   "cell_type": "markdown",
   "id": "59b5128a-6d43-4bbb-9c0d-bd5c93833220",
   "metadata": {},
   "source": [
    "### Display output"
   ]
  },
  {
   "cell_type": "code",
   "execution_count": null,
   "id": "e8e05194-a360-49aa-8eab-e8b5885a58c1",
   "metadata": {},
   "outputs": [],
   "source": [
    "print(f\"✅ Project helper loaded successfully.\")"
   ]
  }
 ],
 "metadata": {
  "kernelspec": {
   "display_name": "Python 3",
   "language": "python",
   "name": "python3"
  },
  "language_info": {
   "codemirror_mode": {
    "name": "ipython",
    "version": 3
   },
   "file_extension": ".py",
   "mimetype": "text/x-python",
   "name": "python",
   "nbconvert_exporter": "python",
   "pygments_lexer": "ipython3",
   "version": "3.9.6"
  },
  "widgets": {
   "application/vnd.jupyter.widget-state+json": {
    "state": {},
    "version_major": 2,
    "version_minor": 0
   }
  }
 },
 "nbformat": 4,
 "nbformat_minor": 5
}
