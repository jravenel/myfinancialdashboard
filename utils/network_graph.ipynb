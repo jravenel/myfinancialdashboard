{
 "cells": [
  {
   "cell_type": "markdown",
   "id": "0fe69480-22c1-4927-9217-6bdb459b5d56",
   "metadata": {},
   "source": [
    "<img width=\"10%\" alt=\"Naas\" src=\"https://landen.imgix.net/jtci2pxwjczr/assets/5ice39g4.png?w=160\"/>"
   ]
  },
  {
   "cell_type": "markdown",
   "id": "1da2bba4-1b4c-4daa-a7c8-487c3a740eba",
   "metadata": {},
   "source": [
    "# Network graph"
   ]
  },
  {
   "cell_type": "markdown",
   "id": "a03e20c0-49a0-4204-b5f9-c1f89850dd8b",
   "metadata": {},
   "source": [
    "## Input"
   ]
  },
  {
   "cell_type": "markdown",
   "id": "dbc31862-a80f-4f73-b41c-45c616c7991b",
   "metadata": {},
   "source": [
    "### Import libraries"
   ]
  },
  {
   "cell_type": "code",
   "execution_count": null,
   "id": "ee961415-6782-4a06-96e8-f6ab708631a3",
   "metadata": {
    "tags": []
   },
   "outputs": [],
   "source": [
    "import glob\n",
    "import pandas as pd\n",
    "from pyvis.network import Network"
   ]
  },
  {
   "cell_type": "markdown",
   "id": "17772827-ea8b-4d47-be40-8be22d3a6568",
   "metadata": {},
   "source": [
    "## Model"
   ]
  },
  {
   "cell_type": "markdown",
   "id": "42acd9cc-0563-40df-87c9-2042807a41e3",
   "metadata": {},
   "source": [
    "### Get all notebooks"
   ]
  },
  {
   "cell_type": "code",
   "execution_count": null,
   "id": "97200f52-d6d6-46c9-81b4-70d7e10caa70",
   "metadata": {
    "tags": []
   },
   "outputs": [],
   "source": [
    "def get_all_notebooks():\n",
    "    # Init\n",
    "    notebooks = []\n",
    "    \n",
    "    # Regex to get all files\n",
    "    regex = f\"{ROOT_PATH}/**/*\"\n",
    "    \n",
    "    # Filter on notebooks\n",
    "    for file in glob.glob(regex, recursive=True):\n",
    "        if file.endswith(\".ipynb\"):\n",
    "            notebooks.append(file)\n",
    "    return notebooks"
   ]
  },
  {
   "cell_type": "markdown",
   "id": "de67e254-7766-484d-9293-c5767144e25d",
   "metadata": {},
   "source": [
    "### Create inputs for pyvis"
   ]
  },
  {
   "cell_type": "code",
   "execution_count": null,
   "id": "19d4ad4a-838e-4857-8403-4603ddeef4cd",
   "metadata": {},
   "outputs": [],
   "source": [
    "def format_df_pyvis(notebooks):\n",
    "    # Get list of notebooks\n",
    "    df = pd.DataFrame(notebooks).rename(columns={0: \"FILE_PATH\"})\n",
    "    \n",
    "    # Create columns\n",
    "    df[\"ID\"] = df.index.astype(str)\n",
    "    df[\"NAME\"] = df.apply(lambda row: row[\"FILE_PATH\"].split(\"/\")[-1].replace(\".ipynb\", \"\").replace(\"_\", \" \").strip(), axis=1)\n",
    "    df[\"FOLDER\"] = df.apply(lambda row: row[\"FILE_PATH\"].split(\"/\")[-2], axis=1)\n",
    "    \n",
    "    # Apply color to folder\n",
    "    df.loc[:, \"COLOR\"] = \"black\"\n",
    "    df.loc[df[\"FOLDER\"] == \"models\", \"COLOR\"] = \"blue\"\n",
    "    df.loc[df[\"FOLDER\"] == \"utils\", \"COLOR\"] = \"green\"\n",
    "   \n",
    "    # Init ID to create nodes\n",
    "    settings = df.loc[df[\"NAME\"] == \"settings\", \"ID\"].values[0]\n",
    "    pipeline = df.loc[df[\"NAME\"] == \"pipeline\", \"ID\"].values[0]\n",
    "    utils = df.loc[df[\"NAME\"] == \"utils\", \"ID\"].values[0]\n",
    "    \n",
    "    # Create edges lists\n",
    "    edges = []\n",
    "    for index, row in df.iterrows():\n",
    "        uid =  int(row['ID'])\n",
    "        if row[\"NAME\"] == \"pipeline\":\n",
    "            edge = (uid, int(settings))\n",
    "            edges.append(edge)\n",
    "        elif row[\"NAME\"] == \"utils\":\n",
    "            edge = (uid,  int(settings))\n",
    "            edges.append(edge)\n",
    "        elif row[\"NAME\"] != \"pipeline\" and row[\"FOLDER\"] == \"models\":\n",
    "            edge = (uid,  int(pipeline))\n",
    "            edges.append(edge)\n",
    "            edge = (uid,  int(utils))\n",
    "            edges.append(edge)\n",
    "        elif row[\"NAME\"] != \"utils\" and row[\"FOLDER\"] == \"utils\":\n",
    "            edge = (uid, int(utils))\n",
    "            edges.append(edge)\n",
    "    return df, edges"
   ]
  },
  {
   "cell_type": "markdown",
   "id": "99e42b26-da81-47f5-b117-9099cb9b60d4",
   "metadata": {},
   "source": [
    "### Create network with pyvis"
   ]
  },
  {
   "cell_type": "code",
   "execution_count": null,
   "id": "964c371e-ddf1-4360-aa5d-92eb8ae992ea",
   "metadata": {},
   "outputs": [],
   "source": [
    "def create_network(\n",
    "    df,\n",
    "    edges,\n",
    "    file_name=\"project_network.html\"\n",
    "):\n",
    "    # Init\n",
    "    net = Network(\n",
    "        notebook=True,\n",
    "        height='750px',\n",
    "        width='100%',\n",
    "        bgcolor='#222222',\n",
    "        font_color='white'\n",
    "    )\n",
    "    \n",
    "    # Add add_nodes\n",
    "    net.add_nodes(\n",
    "        df[\"ID\"].astype(int).tolist(),\n",
    "        label=df[\"NAME\"].tolist(),\n",
    "        color=df[\"COLOR\"].tolist(),\n",
    "    )\n",
    "    \n",
    "    # Add edges\n",
    "    net.add_edges(edges)\n",
    "    \n",
    "    # Save and display network\n",
    "    network = net.show(file_name)\n",
    "    return network"
   ]
  },
  {
   "cell_type": "markdown",
   "id": "bd0e2c62-eb01-4770-9aa0-72554016ab71",
   "metadata": {},
   "source": [
    "### Generate network"
   ]
  },
  {
   "cell_type": "code",
   "execution_count": null,
   "id": "8b113cd6-5ce4-4c8f-9e60-2cfac3c604a1",
   "metadata": {},
   "outputs": [],
   "source": [
    "def generate_network():\n",
    "    # step 1:\n",
    "    notebooks = get_all_notebooks()\n",
    "    \n",
    "    # step 2:\n",
    "    df, edges = format_df_pyvis(notebooks)\n",
    "    \n",
    "    # step 3:\n",
    "    network = create_network(df, edges)\n",
    "    return network"
   ]
  },
  {
   "cell_type": "markdown",
   "id": "c56e7467-89b1-4d83-9633-96453709a143",
   "metadata": {},
   "source": [
    "## Output"
   ]
  },
  {
   "cell_type": "markdown",
   "id": "59b5128a-6d43-4bbb-9c0d-bd5c93833220",
   "metadata": {},
   "source": [
    "### Display output"
   ]
  },
  {
   "cell_type": "code",
   "execution_count": null,
   "id": "bf57582a-5844-49d9-a1b6-eb9f61db2e8b",
   "metadata": {
    "tags": []
   },
   "outputs": [],
   "source": [
    "print(f\"✅ Network graph helper loaded successfully.\")"
   ]
  }
 ],
 "metadata": {
  "kernelspec": {
   "display_name": "Python 3",
   "language": "python",
   "name": "python3"
  },
  "language_info": {
   "codemirror_mode": {
    "name": "ipython",
    "version": 3
   },
   "file_extension": ".py",
   "mimetype": "text/x-python",
   "name": "python",
   "nbconvert_exporter": "python",
   "pygments_lexer": "ipython3",
   "version": "3.9.6"
  },
  "widgets": {
   "application/vnd.jupyter.widget-state+json": {
    "state": {},
    "version_major": 2,
    "version_minor": 0
   }
  }
 },
 "nbformat": 4,
 "nbformat_minor": 5
}
