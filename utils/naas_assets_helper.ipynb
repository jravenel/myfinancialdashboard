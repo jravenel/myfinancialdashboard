{
 "cells": [
  {
   "cell_type": "markdown",
   "id": "0fe69480-22c1-4927-9217-6bdb459b5d56",
   "metadata": {},
   "source": [
    "<img width=\"10%\" alt=\"Naas\" src=\"https://landen.imgix.net/jtci2pxwjczr/assets/5ice39g4.png?w=160\"/>"
   ]
  },
  {
   "cell_type": "markdown",
   "id": "1da2bba4-1b4c-4daa-a7c8-487c3a740eba",
   "metadata": {},
   "source": [
    "# Naas assets helper"
   ]
  },
  {
   "cell_type": "markdown",
   "id": "a5cd6563-4636-4500-9f5c-7f9e48d09a4d",
   "metadata": {},
   "source": [
    "## Input"
   ]
  },
  {
   "cell_type": "markdown",
   "id": "dbc31862-a80f-4f73-b41c-45c616c7991b",
   "metadata": {},
   "source": [
    "### Import libraries"
   ]
  },
  {
   "cell_type": "code",
   "execution_count": null,
   "id": "ee961415-6782-4a06-96e8-f6ab708631a3",
   "metadata": {
    "tags": []
   },
   "outputs": [],
   "source": [
    "import json\n",
    "import os"
   ]
  },
  {
   "cell_type": "markdown",
   "id": "17772827-ea8b-4d47-be40-8be22d3a6568",
   "metadata": {},
   "source": [
    "## Model"
   ]
  },
  {
   "cell_type": "markdown",
   "id": "42acd9cc-0563-40df-87c9-2042807a41e3",
   "metadata": {},
   "source": [
    "### Get naas assets"
   ]
  },
  {
   "cell_type": "code",
   "execution_count": 1,
   "id": "97200f52-d6d6-46c9-81b4-70d7e10caa70",
   "metadata": {
    "execution": {
     "iopub.execute_input": "2022-08-31T16:17:15.846547Z",
     "iopub.status.busy": "2022-08-31T16:17:15.846287Z",
     "iopub.status.idle": "2022-08-31T16:17:15.854907Z",
     "shell.execute_reply": "2022-08-31T16:17:15.854321Z",
     "shell.execute_reply.started": "2022-08-31T16:17:15.846486Z"
    },
    "tags": []
   },
   "outputs": [],
   "source": [
    "def get_naas_assets(name=None):\n",
    "    # Init\n",
    "    data = {}\n",
    "    \n",
    "    # Opening JSON file\n",
    "    if os.path.exists(ASSETS_PATH):\n",
    "        with open(ASSETS_PATH) as f:\n",
    "            data = json.load(f)\n",
    "        \n",
    "    # Get asset\n",
    "    if name:\n",
    "        return data.get(name)\n",
    "    return data"
   ]
  },
  {
   "cell_type": "markdown",
   "id": "a1d8ef7c-20d0-42fa-b370-51465e24f58b",
   "metadata": {},
   "source": [
    "### Save naas assets"
   ]
  },
  {
   "cell_type": "code",
   "execution_count": 2,
   "id": "18cf2a55-f4a5-4e4e-90d5-49055dc9f2e5",
   "metadata": {
    "execution": {
     "iopub.execute_input": "2022-08-31T16:17:16.768340Z",
     "iopub.status.busy": "2022-08-31T16:17:16.768067Z",
     "iopub.status.idle": "2022-08-31T16:17:16.772660Z",
     "shell.execute_reply": "2022-08-31T16:17:16.772046Z",
     "shell.execute_reply.started": "2022-08-31T16:17:16.768310Z"
    }
   },
   "outputs": [],
   "source": [
    "def save_naas_assets(name=None, key=None, value=None):    \n",
    "    # Open naas assets\n",
    "    data = get_naas_assets()\n",
    "    \n",
    "    # Write or overwrite object\n",
    "    if name and key and value:\n",
    "        if name not in data or type(data[name]) != dict:\n",
    "            data[name] = {}\n",
    "        else:\n",
    "            data[name][key] = value\n",
    "    \n",
    "        # Save json\n",
    "        with open(ASSETS_PATH, 'w') as f:\n",
    "            json.dump(data, f, indent=4)"
   ]
  },
  {
   "cell_type": "markdown",
   "id": "fe18dc36-3eda-4b3d-8ce5-0a5f3edccde0",
   "metadata": {},
   "source": [
    "## Output"
   ]
  },
  {
   "cell_type": "markdown",
   "id": "422aaa25-ee8c-492c-9f77-cdc6a539f3c6",
   "metadata": {},
   "source": [
    "### Display output"
   ]
  },
  {
   "cell_type": "code",
   "execution_count": null,
   "id": "e8e05194-a360-49aa-8eab-e8b5885a58c1",
   "metadata": {},
   "outputs": [],
   "source": [
    "print(f\"✅ Naas assets helper loaded successfully.\")"
   ]
  }
 ],
 "metadata": {
  "kernelspec": {
   "display_name": "Python 3",
   "language": "python",
   "name": "python3"
  },
  "language_info": {
   "codemirror_mode": {
    "name": "ipython",
    "version": 3
   },
   "file_extension": ".py",
   "mimetype": "text/x-python",
   "name": "python",
   "nbconvert_exporter": "python",
   "pygments_lexer": "ipython3",
   "version": "3.9.6"
  }
 },
 "nbformat": 4,
 "nbformat_minor": 5
}
