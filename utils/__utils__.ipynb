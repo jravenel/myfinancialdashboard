{
 "cells": [
  {
   "cell_type": "markdown",
   "id": "0fe69480-22c1-4927-9217-6bdb459b5d56",
   "metadata": {},
   "source": [
    "<img width=\"10%\" alt=\"Naas\" src=\"https://landen.imgix.net/jtci2pxwjczr/assets/5ice39g4.png?w=160\"/>"
   ]
  },
  {
   "cell_type": "markdown",
   "id": "1da2bba4-1b4c-4daa-a7c8-487c3a740eba",
   "metadata": {},
   "source": [
    "# Utils"
   ]
  },
  {
   "cell_type": "markdown",
   "id": "3bbb5431-bde9-43a9-b3bf-706cceee9feb",
   "metadata": {},
   "source": [
    "Get and load all utils notebooks"
   ]
  },
  {
   "cell_type": "markdown",
   "id": "a03e20c0-49a0-4204-b5f9-c1f89850dd8b",
   "metadata": {},
   "source": [
    "## Input"
   ]
  },
  {
   "cell_type": "markdown",
   "id": "dbc31862-a80f-4f73-b41c-45c616c7991b",
   "metadata": {},
   "source": [
    "### Import libraries"
   ]
  },
  {
   "cell_type": "code",
   "execution_count": 10,
   "id": "ee961415-6782-4a06-96e8-f6ab708631a3",
   "metadata": {
    "execution": {
     "iopub.execute_input": "2022-09-08T07:34:38.164551Z",
     "iopub.status.busy": "2022-09-08T07:34:38.164181Z",
     "iopub.status.idle": "2022-09-08T07:34:38.169853Z",
     "shell.execute_reply": "2022-09-08T07:34:38.169137Z",
     "shell.execute_reply.started": "2022-09-08T07:34:38.164509Z"
    },
    "tags": []
   },
   "outputs": [],
   "source": [
    "import glob\n",
    "from os import path\n",
    "import re"
   ]
  },
  {
   "cell_type": "markdown",
   "id": "17772827-ea8b-4d47-be40-8be22d3a6568",
   "metadata": {},
   "source": [
    "## Model"
   ]
  },
  {
   "cell_type": "markdown",
   "id": "22267b54-f6e7-4fcc-88b2-96f7edf5deaa",
   "metadata": {},
   "source": [
    "### Setup root path"
   ]
  },
  {
   "cell_type": "code",
   "execution_count": 11,
   "id": "621a4f59-66aa-413b-818e-7b6a3066143e",
   "metadata": {
    "execution": {
     "iopub.execute_input": "2022-09-08T07:34:39.219423Z",
     "iopub.status.busy": "2022-09-08T07:34:39.219109Z",
     "iopub.status.idle": "2022-09-08T07:34:39.229219Z",
     "shell.execute_reply": "2022-09-08T07:34:39.228563Z",
     "shell.execute_reply.started": "2022-09-08T07:34:39.219386Z"
    },
    "tags": []
   },
   "outputs": [],
   "source": [
    "def in_sub_folder(path):\n",
    "    path = path.split('/')\n",
    "    for folder in ['inputs', 'models', 'outputs', 'utils']:\n",
    "        if folder in path:\n",
    "            return True\n",
    "    return False\n",
    "\n",
    "def get_root(path):\n",
    "    if in_sub_folder(path) is False:\n",
    "        return path\n",
    "    else:\n",
    "        return get_root('/'.join(path.split('/')[:-1]))\n",
    "    \n",
    "ROOT_PATH = get_root(globals()['_dh'][0])\n",
    "UTILS_PATH = path.join(ROOT_PATH, \"utils\")"
   ]
  },
  {
   "cell_type": "markdown",
   "id": "42acd9cc-0563-40df-87c9-2042807a41e3",
   "metadata": {},
   "source": [
    "### Get utils files"
   ]
  },
  {
   "cell_type": "code",
   "execution_count": 16,
   "id": "97200f52-d6d6-46c9-81b4-70d7e10caa70",
   "metadata": {
    "execution": {
     "iopub.execute_input": "2022-09-08T07:35:32.870208Z",
     "iopub.status.busy": "2022-09-08T07:35:32.869866Z",
     "iopub.status.idle": "2022-09-08T07:35:32.888361Z",
     "shell.execute_reply": "2022-09-08T07:35:32.887564Z",
     "shell.execute_reply.started": "2022-09-08T07:35:32.870167Z"
    },
    "tags": []
   },
   "outputs": [],
   "source": [
    "utils_files = sorted(glob.glob(f\"{UTILS_PATH}/*.ipynb\"))\n",
    "# utils_files"
   ]
  },
  {
   "cell_type": "markdown",
   "id": "fe18dc36-3eda-4b3d-8ce5-0a5f3edccde0",
   "metadata": {},
   "source": [
    "## Output"
   ]
  },
  {
   "cell_type": "markdown",
   "id": "e89bcd37-83cd-4f10-9f0c-ff2be8223ded",
   "metadata": {},
   "source": [
    "### Load utils"
   ]
  },
  {
   "cell_type": "code",
   "execution_count": 15,
   "id": "21e079ad-5498-4e82-b508-1325f2a55df2",
   "metadata": {
    "execution": {
     "iopub.execute_input": "2022-09-08T07:35:29.861218Z",
     "iopub.status.busy": "2022-09-08T07:35:29.859827Z",
     "iopub.status.idle": "2022-09-08T07:35:29.927795Z",
     "shell.execute_reply": "2022-09-08T07:35:29.927175Z",
     "shell.execute_reply.started": "2022-09-08T07:35:29.861175Z"
    },
    "tags": []
   },
   "outputs": [
    {
     "name": "stdout",
     "output_type": "stream",
     "text": [
      "✅ Naas assets helper loaded successfully.\n",
      "✅ Project helper loaded successfully.\n"
     ]
    }
   ],
   "source": [
    "for file in utils_files:\n",
    "    if not re.match(\".+[0-9]{20}.+.ipynb\", file) and not file.endswith(\"__utils__.ipynb\"):\n",
    "        %run \"$file\""
   ]
  },
  {
   "cell_type": "code",
   "execution_count": null,
   "id": "ed797875-ad3b-4f5f-9504-bfea1fb8c4e7",
   "metadata": {},
   "outputs": [],
   "source": []
  }
 ],
 "metadata": {
  "kernelspec": {
   "display_name": "Python 3",
   "language": "python",
   "name": "python3"
  },
  "language_info": {
   "codemirror_mode": {
    "name": "ipython",
    "version": 3
   },
   "file_extension": ".py",
   "mimetype": "text/x-python",
   "name": "python",
   "nbconvert_exporter": "python",
   "pygments_lexer": "ipython3",
   "version": "3.9.6"
  },
  "widgets": {
   "application/vnd.jupyter.widget-state+json": {
    "state": {},
    "version_major": 2,
    "version_minor": 0
   }
  }
 },
 "nbformat": 4,
 "nbformat_minor": 5
}
