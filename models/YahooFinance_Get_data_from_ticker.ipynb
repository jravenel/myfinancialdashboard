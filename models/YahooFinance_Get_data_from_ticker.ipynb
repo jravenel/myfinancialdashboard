{
 "cells": [
  {
   "cell_type": "markdown",
   "id": "73fdd6d5-d8c4-47fe-9ab6-beac569af513",
   "metadata": {
    "papermill": {},
    "tags": []
   },
   "source": [
    "<img width=\"10%\" alt=\"Naas\" src=\"https://landen.imgix.net/jtci2pxwjczr/assets/5ice39g4.png?w=160\"/>"
   ]
  },
  {
   "cell_type": "markdown",
   "id": "descending-grammar",
   "metadata": {
    "papermill": {},
    "tags": []
   },
   "source": [
    "# YahooFinance - Get data from ticker\n",
    "<a href=\"https://app.naas.ai/user-redirect/naas/downloader?url=https://raw.githubusercontent.com/jupyter-naas/awesome-notebooks/master/YahooFinance/YahooFinance_Get_data_from_ticker.ipynb\" target=\"_parent\"><img src=\"https://naasai-public.s3.eu-west-3.amazonaws.com/open_in_naas.svg\"/></a>"
   ]
  },
  {
   "cell_type": "markdown",
   "id": "ea0f4d52-5687-4719-9b35-e5abcc48328b",
   "metadata": {
    "papermill": {},
    "tags": []
   },
   "source": [
    "**Tags:** #yahoofinance #trading #naas_drivers #investors #snippet #dataframe"
   ]
  },
  {
   "cell_type": "markdown",
   "id": "16d1f778-1306-4cb9-a405-f217a4cc8051",
   "metadata": {
    "papermill": {},
    "tags": []
   },
   "source": [
    "**Author:** [Florent Ravenel](https://www.linkedin.com/in/florent-ravenel/)"
   ]
  },
  {
   "cell_type": "markdown",
   "id": "solid-substance",
   "metadata": {
    "execution": {
     "iopub.execute_input": "2021-05-05T18:38:30.568241Z",
     "iopub.status.busy": "2021-05-05T18:38:30.567916Z",
     "iopub.status.idle": "2021-05-05T18:38:30.578313Z",
     "shell.execute_reply": "2021-05-05T18:38:30.577374Z",
     "shell.execute_reply.started": "2021-05-05T18:38:30.568205Z"
    },
    "papermill": {},
    "tags": []
   },
   "source": [
    "With this template, you can get data from any ticker available in [Yahoo finance](https://finance.yahoo.com/quote/TSLA/).<br> "
   ]
  },
  {
   "cell_type": "markdown",
   "id": "d17064b3-00b5-4d71-96ba-38c6af450919",
   "metadata": {
    "papermill": {},
    "tags": []
   },
   "source": [
    "## Input"
   ]
  },
  {
   "cell_type": "markdown",
   "id": "82706638-9c6b-410a-a2aa-215510eb2b1e",
   "metadata": {},
   "source": [
    "### Get utils"
   ]
  },
  {
   "cell_type": "code",
   "execution_count": null,
   "id": "74287278-8066-4d2f-b502-21e38b3ef618",
   "metadata": {
    "tags": []
   },
   "outputs": [],
   "source": [
    "# Load utils functions\n",
    "from os import path\n",
    "\n",
    "utils_path = \"../utils/__utils__.ipynb\"\n",
    "if not path.exists(utils_path):\n",
    "    utils_path = \"utils/__utils__.ipynb\"\n",
    "\n",
    "%run \"$utils_path\""
   ]
  },
  {
   "cell_type": "markdown",
   "id": "1d8f5e20-bcfc-4ceb-83ad-0856868327a0",
   "metadata": {
    "papermill": {},
    "tags": []
   },
   "source": [
    "### Import libraries"
   ]
  },
  {
   "cell_type": "code",
   "execution_count": null,
   "id": "fd368ba3-fc40-46db-af1d-a62d11573923",
   "metadata": {
    "papermill": {},
    "tags": []
   },
   "outputs": [],
   "source": [
    "from naas_drivers import yahoofinance"
   ]
  },
  {
   "cell_type": "markdown",
   "id": "79126baa-2a38-4861-8130-66b4c4e13621",
   "metadata": {
    "papermill": {},
    "tags": []
   },
   "source": [
    "### Get Params"
   ]
  },
  {
   "cell_type": "code",
   "execution_count": null,
   "id": "exceptional-pearl",
   "metadata": {
    "papermill": {},
    "tags": []
   },
   "outputs": [],
   "source": [
    "ticker = PARAMS.get(\"TICKER\")\n",
    "date_from = PARAMS.get(\"DATE_FROM\")\n",
    "date_to = PARAMS.get(\"DATE_TO\")\n",
    "interval = PARAMS.get(\"INTERVAL\")"
   ]
  },
  {
   "cell_type": "markdown",
   "id": "98a05aa5-d86d-4b2f-9b68-f4ee521bbabc",
   "metadata": {},
   "source": [
    "### Setup Output"
   ]
  },
  {
   "cell_type": "code",
   "execution_count": null,
   "id": "aefba689-b43e-413a-ac72-961b799e7363",
   "metadata": {
    "tags": []
   },
   "outputs": [],
   "source": [
    "csv_ticker = path.join(INPUTS_PATH, f\"{ticker}.csv\")"
   ]
  },
  {
   "cell_type": "markdown",
   "id": "0a1ad0db-97b3-4f84-a82e-517595d95f17",
   "metadata": {
    "papermill": {},
    "tags": []
   },
   "source": [
    "## Model"
   ]
  },
  {
   "cell_type": "markdown",
   "id": "manufactured-allocation",
   "metadata": {
    "papermill": {},
    "tags": []
   },
   "source": [
    "### Get dataset from Yahoo Finance"
   ]
  },
  {
   "cell_type": "code",
   "execution_count": null,
   "id": "powered-ensemble",
   "metadata": {
    "papermill": {},
    "tags": []
   },
   "outputs": [],
   "source": [
    "df_yahoo = yahoofinance.get(ticker,\n",
    "                            date_from=int(date_from),\n",
    "                            date_to=date_to,\n",
    "                            interval=interval)\n",
    "print(\"☑️ Rows fetched:\", len(df_yahoo))\n",
    "df_yahoo.head(1)"
   ]
  },
  {
   "cell_type": "markdown",
   "id": "d71d8ad4-697d-4d4e-be8c-6c7d54d174e0",
   "metadata": {
    "papermill": {},
    "tags": []
   },
   "source": [
    "## Output"
   ]
  },
  {
   "cell_type": "markdown",
   "id": "great-visiting",
   "metadata": {
    "papermill": {},
    "tags": []
   },
   "source": [
    "### Save dataframe as input"
   ]
  },
  {
   "cell_type": "code",
   "execution_count": null,
   "id": "isolated-harrison",
   "metadata": {
    "papermill": {},
    "tags": []
   },
   "outputs": [],
   "source": [
    "df_yahoo.to_csv(csv_ticker, index=False)"
   ]
  }
 ],
 "metadata": {
  "kernelspec": {
   "display_name": "Python 3",
   "language": "python",
   "name": "python3"
  },
  "language_info": {
   "codemirror_mode": {
    "name": "ipython",
    "version": 3
   },
   "file_extension": ".py",
   "mimetype": "text/x-python",
   "name": "python",
   "nbconvert_exporter": "python",
   "pygments_lexer": "ipython3",
   "version": "3.9.6"
  },
  "naas": {
   "notebook_id": "d35313c3-bd4f-4adc-a381-d03754eb91f1",
   "notebook_path": "YahooFinance/YahooFinance_Get_data_from_ticker.ipynb"
  },
  "papermill": {
   "default_parameters": {},
   "environment_variables": {},
   "parameters": {},
   "version": "2.3.3"
  },
  "toc-autonumbering": false,
  "widgets": {
   "application/vnd.jupyter.widget-state+json": {
    "state": {},
    "version_major": 2,
    "version_minor": 0
   }
  }
 },
 "nbformat": 4,
 "nbformat_minor": 5
}
