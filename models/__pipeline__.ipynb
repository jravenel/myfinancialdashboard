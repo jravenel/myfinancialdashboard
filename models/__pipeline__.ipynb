{
 "cells": [
  {
   "cell_type": "markdown",
   "id": "dd66232c-09f1-44bf-8849-0cd5c52f78a6",
   "metadata": {},
   "source": [
    "<img width=\"10%\" alt=\"Naas\" src=\"https://landen.imgix.net/jtci2pxwjczr/assets/5ice39g4.png?w=160\"/>"
   ]
  },
  {
   "cell_type": "markdown",
   "id": "633951dc-ca87-4032-ad2d-b76a909861bf",
   "metadata": {},
   "source": [
    "# Pipeline"
   ]
  },
  {
   "cell_type": "markdown",
   "id": "dc8969f9-6f45-4131-9983-a9cfec61be43",
   "metadata": {},
   "source": [
    "**Tags:** #naas #pipeline #automation #snippet"
   ]
  },
  {
   "cell_type": "markdown",
   "id": "29d1ba56-7c9e-4895-836e-afcbdb1bb75c",
   "metadata": {},
   "source": [
    "**Author:** [Florent Ravenel](https://www.linkedin.com/in/florent-ravenel/)"
   ]
  },
  {
   "cell_type": "markdown",
   "id": "524d5465-bce2-42f3-8d18-6f821dae07a5",
   "metadata": {},
   "source": [
    "## Input"
   ]
  },
  {
   "cell_type": "markdown",
   "id": "54a2fdfd-1bbd-456c-be5c-6698a92785ac",
   "metadata": {},
   "source": [
    "### Get utils\n",
    "This section enable the pipeline to run using common functions stored inside the /utils folder. "
   ]
  },
  {
   "cell_type": "code",
   "execution_count": 1,
   "id": "773e2347-f372-4295-85e6-a18642196f2f",
   "metadata": {
    "execution": {
     "iopub.execute_input": "2022-11-10T18:57:48.717773Z",
     "iopub.status.busy": "2022-11-10T18:57:48.717509Z",
     "iopub.status.idle": "2022-11-10T18:57:54.535633Z",
     "shell.execute_reply": "2022-11-10T18:57:54.535039Z",
     "shell.execute_reply.started": "2022-11-10T18:57:48.717708Z"
    },
    "tags": []
   },
   "outputs": [
    {
     "name": "stdout",
     "output_type": "stream",
     "text": [
      "✅ Naas assets helper loaded successfully.\n",
      "✅ Network graph helper loaded successfully.\n",
      "✅ Project helper loaded successfully.\n"
     ]
    }
   ],
   "source": [
    "# Load utils functions\n",
    "from os import path\n",
    "from naas.pipelines.pipelines import Pipeline, DummyStep, DummyErrorStep, NotebookStep, End, ParallelStep\n",
    "\n",
    "utils_path = \"../utils/__utils__.ipynb\"\n",
    "if not path.exists(utils_path):\n",
    "    utils_path = \"utils/__utils__.ipynb\"\n",
    "\n",
    "%run \"$utils_path\""
   ]
  },
  {
   "cell_type": "markdown",
   "id": "768755a8-0451-4cd5-921f-5fae9ed096a2",
   "metadata": {},
   "source": [
    "### Setup pipeline execution\n",
    "This section is made to declare the order in which the notebooks are going to be executed."
   ]
  },
  {
   "cell_type": "code",
   "execution_count": 2,
   "id": "caf458d6-c7d2-4a15-841e-c208d93aba18",
   "metadata": {
    "execution": {
     "iopub.execute_input": "2022-11-10T18:59:47.826958Z",
     "iopub.status.busy": "2022-11-10T18:59:47.826728Z",
     "iopub.status.idle": "2022-11-10T18:59:50.962129Z",
     "shell.execute_reply": "2022-11-10T18:59:50.961493Z",
     "shell.execute_reply.started": "2022-11-10T18:59:47.826934Z"
    },
    "tags": []
   },
   "outputs": [
    {
     "data": {
      "text/html": [
       "<html>\n",
       "<head>\n",
       "<link rel=\"stylesheet\" href=\"https://cdn.jsdelivr.net/npm/vis-network@latest/styles/vis-network.css\" type=\"text/css\" />\n",
       "<script type=\"text/javascript\" src=\"https://cdn.jsdelivr.net/npm/vis-network@latest/dist/vis-network.min.js\"> </script>\n",
       "<center>\n",
       "<h1></h1>\n",
       "</center>\n",
       "\n",
       "<!-- <link rel=\"stylesheet\" href=\"../node_modules/vis/dist/vis.min.css\" type=\"text/css\" />\n",
       "<script type=\"text/javascript\" src=\"../node_modules/vis/dist/vis.js\"> </script>-->\n",
       "\n",
       "<style type=\"text/css\">\n",
       "\n",
       "        #mynetwork {\n",
       "            width: 100%;\n",
       "            height: 1000px;\n",
       "            background-color: #212121;\n",
       "            border: 1px solid lightgray;\n",
       "            position: relative;\n",
       "            float: left;\n",
       "        }\n",
       "\n",
       "        \n",
       "\n",
       "        \n",
       "\n",
       "        \n",
       "</style>\n",
       "\n",
       "</head>\n",
       "\n",
       "<body>\n",
       "<div id = \"mynetwork\"></div>\n",
       "\n",
       "\n",
       "<script type=\"text/javascript\">\n",
       "\n",
       "    // initialize global variables.\n",
       "    var edges;\n",
       "    var nodes;\n",
       "    var network; \n",
       "    var container;\n",
       "    var options, data;\n",
       "\n",
       "    \n",
       "    // This method is responsible for drawing the graph, returns the drawn network\n",
       "    function drawGraph() {\n",
       "        var container = document.getElementById('mynetwork');\n",
       "        \n",
       "        \n",
       "\n",
       "        // parsing and collecting nodes and edges from the python\n",
       "        nodes = new vis.DataSet([{\"color\": \"#5DE191\", \"font\": {\"color\": \"#ffffff\"}, \"id\": \"Start\", \"image\": \"start-end.png\", \"label\": \"Start\", \"level\": 0, \"mass\": 5, \"shape\": \"circularImage\", \"x\": 0, \"y\": 0}, {\"color\": \"#5DE191\", \"font\": {\"color\": \"#ffffff\"}, \"id\": \"ParallelStep-4e0dac15-04ef-4ceb-9612-0cb4f92871ca\", \"image\": \"parallel.png\", \"label\": \"Parallel Step\", \"level\": 1, \"mass\": 20, \"shape\": \"circularImage\", \"x\": 1, \"y\": 0}, {\"color\": \"#5DE191\", \"font\": {\"color\": \"#ffffff\"}, \"id\": \"Collect from AWS\", \"label\": \"Collect from AWS\", \"level\": 2, \"mass\": 5, \"shape\": \"box\", \"x\": 2, \"y\": 0}, {\"color\": \"#5DE191\", \"font\": {\"color\": \"#ffffff\"}, \"id\": \"Collect from Snowflake\", \"label\": \"Collect from Snowflake\", \"level\": 2, \"mass\": 5, \"shape\": \"box\", \"x\": 2, \"y\": 0}, {\"color\": \"#5DE191\", \"font\": {\"color\": \"#ffffff\"}, \"id\": \"Consolidate data\", \"label\": \"Consolidate data\", \"level\": 3, \"mass\": 5, \"shape\": \"box\", \"x\": 3, \"y\": 0}, {\"color\": \"#5DE191\", \"font\": {\"color\": \"#ffffff\"}, \"id\": \"Create dashboard\", \"label\": \"Create dashboard\", \"level\": 4, \"mass\": 5, \"shape\": \"box\", \"x\": 4, \"y\": 0}, {\"color\": \"#5DE191\", \"font\": {\"color\": \"#ffffff\"}, \"id\": \"Send emails\", \"label\": \"Send emails\", \"level\": 5, \"mass\": 5, \"shape\": \"box\", \"x\": 5, \"y\": 0}, {\"color\": \"#5DE191\", \"font\": {\"color\": \"#ffffff\"}, \"id\": \"End\", \"image\": \"start-end.png\", \"label\": \"End\", \"level\": 6, \"mass\": 5, \"shape\": \"circularImage\", \"x\": 6, \"y\": 0}]);\n",
       "        edges = new vis.DataSet([{\"arrows\": \"to\", \"from\": \"ParallelStep-4e0dac15-04ef-4ceb-9612-0cb4f92871ca\", \"to\": \"Collect from AWS\"}, {\"arrows\": \"to\", \"from\": \"ParallelStep-4e0dac15-04ef-4ceb-9612-0cb4f92871ca\", \"to\": \"Collect from Snowflake\"}, {\"arrows\": \"to\", \"from\": \"Send emails\", \"to\": \"End\"}, {\"arrows\": \"to\", \"from\": \"Create dashboard\", \"to\": \"Send emails\"}, {\"arrows\": \"to\", \"from\": \"Consolidate data\", \"to\": \"Create dashboard\"}, {\"arrows\": \"to\", \"from\": \"Collect from AWS\", \"to\": \"Consolidate data\"}, {\"arrows\": \"to\", \"from\": \"Collect from Snowflake\", \"to\": \"Consolidate data\"}, {\"arrows\": \"to\", \"from\": \"Start\", \"to\": \"ParallelStep-4e0dac15-04ef-4ceb-9612-0cb4f92871ca\"}]);\n",
       "\n",
       "        // adding nodes and edges to the graph\n",
       "        data = {nodes: nodes, edges: edges};\n",
       "\n",
       "        var options = {\n",
       "    \"configure\": {\n",
       "        \"enabled\": false\n",
       "    },\n",
       "    \"edges\": {\n",
       "        \"color\": {\n",
       "            \"inherit\": true\n",
       "        },\n",
       "        \"smooth\": {\n",
       "            \"enabled\": true,\n",
       "            \"type\": \"dynamic\"\n",
       "        }\n",
       "    },\n",
       "    \"interaction\": {\n",
       "        \"dragNodes\": true,\n",
       "        \"hideEdgesOnDrag\": false,\n",
       "        \"hideNodesOnDrag\": false\n",
       "    },\n",
       "    \"layout\": {\n",
       "        \"hierarchical\": {\n",
       "            \"blockShifting\": true,\n",
       "            \"edgeMinimization\": true,\n",
       "            \"enabled\": true,\n",
       "            \"levelSeparation\": 150,\n",
       "            \"parentCentralization\": true,\n",
       "            \"sortMethod\": \"hubsize\",\n",
       "            \"treeSpacing\": 200\n",
       "        },\n",
       "        \"improvedLayout\": true,\n",
       "        \"randomSeed\": 0\n",
       "    },\n",
       "    \"physics\": {\n",
       "        \"enabled\": false,\n",
       "        \"stabilization\": {\n",
       "            \"enabled\": true,\n",
       "            \"fit\": true,\n",
       "            \"iterations\": 1000,\n",
       "            \"onlyDynamicEdges\": false,\n",
       "            \"updateInterval\": 50\n",
       "        }\n",
       "    }\n",
       "};\n",
       "        \n",
       "        \n",
       "\n",
       "        \n",
       "\n",
       "        network = new vis.Network(container, data, options);\n",
       "\t \n",
       "        \n",
       "\n",
       "\n",
       "        \n",
       "\n",
       "        return network;\n",
       "\n",
       "    }\n",
       "\n",
       "    drawGraph();\n",
       "\n",
       "</script>\n",
       "</body>\n",
       "</html>"
      ],
      "text/plain": [
       "<IPython.core.display.HTML object>"
      ]
     },
     "metadata": {},
     "output_type": "display_data"
    }
   ],
   "source": [
    "pipeline = Pipeline()\n",
    "\n",
    "pipeline >> [\n",
    "    DummyStep(\"Collect from AWS\"),\n",
    "    DummyStep(\"Collect from Snowflake\"),\n",
    "] >> DummyStep(\"Consolidate data\") \\\n",
    ">> DummyStep(\"Create dashboard\") \\\n",
    ">> DummyStep(\"Send emails\") \\\n",
    ">> End()\n",
    "pipeline.run()"
   ]
  },
  {
   "cell_type": "markdown",
   "id": "ea6ff4cf-cea6-420e-b190-5979156b5fed",
   "metadata": {},
   "source": [
    "## Model"
   ]
  },
  {
   "cell_type": "markdown",
   "id": "c605f360-3459-40d1-a68b-227f38a6684e",
   "metadata": {},
   "source": [
    "### Run pipeline"
   ]
  },
  {
   "cell_type": "code",
   "execution_count": null,
   "id": "43e1e8a9-eee2-4397-88c6-f84f5b405d32",
   "metadata": {
    "tags": []
   },
   "outputs": [],
   "source": [
    "run_pipeline(PIPELINE)"
   ]
  },
  {
   "cell_type": "markdown",
   "id": "d856dbf2-37a4-4e52-804a-81c3728b99a7",
   "metadata": {},
   "source": [
    "## Output"
   ]
  },
  {
   "cell_type": "markdown",
   "id": "2c4996fc-6773-4b9b-bf78-b39bc9a88bf2",
   "metadata": {},
   "source": [
    "### Display result"
   ]
  },
  {
   "cell_type": "code",
   "execution_count": null,
   "id": "d26d8cee-8e57-4aab-b621-14f82e5010a5",
   "metadata": {
    "tags": []
   },
   "outputs": [],
   "source": [
    "print(\"✅ Pipeline ran successfully.\")"
   ]
  }
 ],
 "metadata": {
  "kernelspec": {
   "display_name": "Python 3",
   "language": "python",
   "name": "python3"
  },
  "language_info": {
   "codemirror_mode": {
    "name": "ipython",
    "version": 3
   },
   "file_extension": ".py",
   "mimetype": "text/x-python",
   "name": "python",
   "nbconvert_exporter": "python",
   "pygments_lexer": "ipython3",
   "version": "3.9.6"
  },
  "widgets": {
   "application/vnd.jupyter.widget-state+json": {
    "state": {},
    "version_major": 2,
    "version_minor": 0
   }
  }
 },
 "nbformat": 4,
 "nbformat_minor": 5
}
