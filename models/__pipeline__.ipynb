{
 "cells": [
  {
   "cell_type": "markdown",
   "id": "dd66232c-09f1-44bf-8849-0cd5c52f78a6",
   "metadata": {},
   "source": [
    "<img width=\"10%\" alt=\"Naas\" src=\"https://landen.imgix.net/jtci2pxwjczr/assets/5ice39g4.png?w=160\"/>"
   ]
  },
  {
   "cell_type": "markdown",
   "id": "633951dc-ca87-4032-ad2d-b76a909861bf",
   "metadata": {},
   "source": [
    "# Pipeline"
   ]
  },
  {
   "cell_type": "markdown",
   "id": "dc8969f9-6f45-4131-9983-a9cfec61be43",
   "metadata": {},
   "source": [
    "**Tags:** #naas #pipeline #automation #snippet"
   ]
  },
  {
   "cell_type": "markdown",
   "id": "29d1ba56-7c9e-4895-836e-afcbdb1bb75c",
   "metadata": {},
   "source": [
    "**Author:** [Florent Ravenel](https://www.linkedin.com/in/florent-ravenel/)"
   ]
  },
  {
   "cell_type": "markdown",
   "id": "524d5465-bce2-42f3-8d18-6f821dae07a5",
   "metadata": {},
   "source": [
    "## Input"
   ]
  },
  {
   "cell_type": "markdown",
   "id": "54a2fdfd-1bbd-456c-be5c-6698a92785ac",
   "metadata": {},
   "source": [
    "### Get utils\n",
    "This section enable the pipeline to run using common functions stored inside the /utils folder. "
   ]
  },
  {
   "cell_type": "code",
   "execution_count": null,
   "id": "773e2347-f372-4295-85e6-a18642196f2f",
   "metadata": {
    "tags": []
   },
   "outputs": [],
   "source": [
    "# Load utils functions\n",
    "from os import path\n",
    "\n",
    "utils_path = \"../utils/__utils__.ipynb\"\n",
    "if not path.exists(utils_path):\n",
    "    utils_path = \"utils/__utils__.ipynb\"\n",
    "\n",
    "%run \"$utils_path\""
   ]
  },
  {
   "cell_type": "markdown",
   "id": "879cc555-89f2-4884-ad80-d2bea449eb52",
   "metadata": {},
   "source": [
    "### Setup notebooks\n",
    "This section is made to declare all the notebooks and create unique IDs that will be used in the pipeline. "
   ]
  },
  {
   "cell_type": "code",
   "execution_count": null,
   "id": "61400f78-56e2-4818-be37-be1e2c216e12",
   "metadata": {
    "tags": []
   },
   "outputs": [],
   "source": [
    "NOTEBOOK1 = \"YahooFinance_Get_data_from_ticker.ipynb\"\n",
    "NOTEBOOK2 = \"YahooFinance_Predict_data.ipynb\"\n",
    "NOTEBOOK3 = \"YahooFinance_Create_linechart.ipynb\"\n",
    "NOTEBOOK4 = \"YahooFinance_Send_email_prediction.ipynb\""
   ]
  },
  {
   "cell_type": "markdown",
   "id": "768755a8-0451-4cd5-921f-5fae9ed096a2",
   "metadata": {},
   "source": [
    "### Setup pipeline execution\n",
    "This section is made to declare the order in which the notebooks are going to be executed."
   ]
  },
  {
   "cell_type": "code",
   "execution_count": null,
   "id": "caf458d6-c7d2-4a15-841e-c208d93aba18",
   "metadata": {
    "tags": []
   },
   "outputs": [],
   "source": [
    "PIPELINE = [\n",
    "    NOTEBOOK1,\n",
    "    NOTEBOOK2,\n",
    "    NOTEBOOK3,\n",
    "    NOTEBOOK4\n",
    "]"
   ]
  },
  {
   "cell_type": "markdown",
   "id": "ea6ff4cf-cea6-420e-b190-5979156b5fed",
   "metadata": {},
   "source": [
    "## Model"
   ]
  },
  {
   "cell_type": "markdown",
   "id": "c605f360-3459-40d1-a68b-227f38a6684e",
   "metadata": {},
   "source": [
    "### Run pipeline"
   ]
  },
  {
   "cell_type": "code",
   "execution_count": null,
   "id": "43e1e8a9-eee2-4397-88c6-f84f5b405d32",
   "metadata": {
    "tags": []
   },
   "outputs": [],
   "source": [
    "run_pipeline(PIPELINE)"
   ]
  },
  {
   "cell_type": "markdown",
   "id": "d856dbf2-37a4-4e52-804a-81c3728b99a7",
   "metadata": {},
   "source": [
    "## Output"
   ]
  },
  {
   "cell_type": "markdown",
   "id": "2c4996fc-6773-4b9b-bf78-b39bc9a88bf2",
   "metadata": {},
   "source": [
    "### Display result"
   ]
  },
  {
   "cell_type": "code",
   "execution_count": null,
   "id": "d26d8cee-8e57-4aab-b621-14f82e5010a5",
   "metadata": {
    "tags": []
   },
   "outputs": [],
   "source": [
    "print(\"✅ Pipeline ran successfully.\")"
   ]
  }
 ],
 "metadata": {
  "kernelspec": {
   "display_name": "Python 3",
   "language": "python",
   "name": "python3"
  },
  "language_info": {
   "codemirror_mode": {
    "name": "ipython",
    "version": 3
   },
   "file_extension": ".py",
   "mimetype": "text/x-python",
   "name": "python",
   "nbconvert_exporter": "python",
   "pygments_lexer": "ipython3",
   "version": "3.9.6"
  },
  "widgets": {
   "application/vnd.jupyter.widget-state+json": {
    "state": {},
    "version_major": 2,
    "version_minor": 0
   }
  }
 },
 "nbformat": 4,
 "nbformat_minor": 5
}
