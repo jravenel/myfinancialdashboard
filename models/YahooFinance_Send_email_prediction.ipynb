{
 "cells": [
  {
   "cell_type": "markdown",
   "id": "0945c819-fd6f-4dc2-93d7-9742277989f9",
   "metadata": {
    "papermill": {},
    "tags": []
   },
   "source": [
    "<img width=\"10%\" alt=\"Naas\" src=\"https://landen.imgix.net/jtci2pxwjczr/assets/5ice39g4.png?w=160\"/>"
   ]
  },
  {
   "cell_type": "markdown",
   "id": "descending-grammar",
   "metadata": {
    "papermill": {},
    "tags": []
   },
   "source": [
    "# YahooFinance - Send daily prediction to Email\n",
    "<a href=\"https://app.naas.ai/user-redirect/naas/downloader?url=https://raw.githubusercontent.com/jupyter-naas/awesome-notebooks/master/YahooFinance/YahooFinance_Send_daily_prediction_to_Email.ipynb\" target=\"_parent\"><img src=\"https://naasai-public.s3.eu-west-3.amazonaws.com/open_in_naas.svg\"/></a>"
   ]
  },
  {
   "cell_type": "markdown",
   "id": "ea0f4d52-5687-4719-9b35-e5abcc48328b",
   "metadata": {
    "papermill": {},
    "tags": []
   },
   "source": [
    "**Tags:** #yahoofinance #trading #markdown #prediction #plotly #slack #naas_drivers #notification #naas #investors #automation #analytics #email #html #image"
   ]
  },
  {
   "cell_type": "markdown",
   "id": "15ce5111-42e8-479f-9002-975023b1d5f1",
   "metadata": {
    "papermill": {},
    "tags": []
   },
   "source": [
    "**Author:** [Florent Ravenel](https://www.linkedin.com/in/florent-ravenel/)"
   ]
  },
  {
   "cell_type": "markdown",
   "id": "solid-substance",
   "metadata": {
    "execution": {
     "iopub.execute_input": "2021-05-05T18:38:30.568241Z",
     "iopub.status.busy": "2021-05-05T18:38:30.567916Z",
     "iopub.status.idle": "2021-05-05T18:38:30.578313Z",
     "shell.execute_reply": "2021-05-05T18:38:30.577374Z",
     "shell.execute_reply.started": "2021-05-05T18:38:30.568205Z"
    },
    "papermill": {},
    "tags": []
   },
   "source": [
    "With this template, you can get any ticker available in [Yahoo finance](https://finance.yahoo.com/quote/TSLA/), add predictions and send a daily email with naas.<br> "
   ]
  },
  {
   "cell_type": "markdown",
   "id": "d17064b3-00b5-4d71-96ba-38c6af450919",
   "metadata": {
    "papermill": {},
    "tags": []
   },
   "source": [
    "## Input"
   ]
  },
  {
   "cell_type": "markdown",
   "id": "bd85ac54-69a3-4f29-9e20-d7e3058e1afc",
   "metadata": {},
   "source": [
    "### Get utils"
   ]
  },
  {
   "cell_type": "code",
   "execution_count": 1,
   "id": "2178267c-dbdf-42b7-9630-2a0ec1fbd97e",
   "metadata": {
    "execution": {
     "iopub.execute_input": "2022-08-31T16:46:40.792846Z",
     "iopub.status.busy": "2022-08-31T16:46:40.792420Z",
     "iopub.status.idle": "2022-08-31T16:46:40.948854Z",
     "shell.execute_reply": "2022-08-31T16:46:40.948185Z",
     "shell.execute_reply.started": "2022-08-31T16:46:40.792775Z"
    },
    "tags": []
   },
   "outputs": [
    {
     "name": "stdout",
     "output_type": "stream",
     "text": [
      "✅ Notebook '../utils/naas_assets_helper.ipynb' loaded.\n",
      "✅ Notebook '../utils/project_helper.ipynb' loaded.\n"
     ]
    }
   ],
   "source": [
    "# Load utils functions\n",
    "from os import path\n",
    "\n",
    "utils_path = \"../utils/__utils__.ipynb\"\n",
    "if not path.exists(utils_path):\n",
    "    utils_path = \"utils/__utils__.ipynb\"\n",
    "\n",
    "%run \"$utils_path\""
   ]
  },
  {
   "cell_type": "markdown",
   "id": "1d8f5e20-bcfc-4ceb-83ad-0856868327a0",
   "metadata": {
    "papermill": {},
    "tags": []
   },
   "source": [
    "### Import libraries"
   ]
  },
  {
   "cell_type": "code",
   "execution_count": 2,
   "id": "fd368ba3-fc40-46db-af1d-a62d11573923",
   "metadata": {
    "execution": {
     "iopub.execute_input": "2022-08-31T16:46:40.950493Z",
     "iopub.status.busy": "2022-08-31T16:46:40.949955Z",
     "iopub.status.idle": "2022-08-31T16:46:44.280019Z",
     "shell.execute_reply": "2022-08-31T16:46:44.279373Z",
     "shell.execute_reply.started": "2022-08-31T16:46:40.950460Z"
    },
    "papermill": {},
    "tags": []
   },
   "outputs": [],
   "source": [
    "import json\n",
    "import pandas as pd\n",
    "import naas\n",
    "import markdown2\n",
    "from datetime import datetime\n",
    "from IPython.core.display import display, HTML\n",
    "from naas_drivers import naasauth"
   ]
  },
  {
   "cell_type": "markdown",
   "id": "6e2eb2f8-9106-4357-a324-5051076a1dd9",
   "metadata": {},
   "source": [
    "### Get params"
   ]
  },
  {
   "cell_type": "code",
   "execution_count": 3,
   "id": "7f01cda3-fe64-46c5-9440-9162185714c2",
   "metadata": {
    "execution": {
     "iopub.execute_input": "2022-08-31T16:46:44.282703Z",
     "iopub.status.busy": "2022-08-31T16:46:44.282530Z",
     "iopub.status.idle": "2022-08-31T16:46:44.285837Z",
     "shell.execute_reply": "2022-08-31T16:46:44.285246Z",
     "shell.execute_reply.started": "2022-08-31T16:46:44.282684Z"
    },
    "tags": []
   },
   "outputs": [],
   "source": [
    "ticker = PARAMS.get(\"TICKER\")\n",
    "data_point = PARAMS.get(\"DATA_POINT\")\n",
    "email_to = PARAMS.get(\"EMAIL_TO\")"
   ]
  },
  {
   "cell_type": "markdown",
   "id": "803c592f-22c0-4014-be4e-0aeb4e6308f4",
   "metadata": {
    "papermill": {},
    "tags": []
   },
   "source": [
    "### Setup Email\n",
    "👉 Here you can input your sender email and destination email.<br>\n",
    "Note: emails are sent from notification@naas.ai by default"
   ]
  },
  {
   "cell_type": "code",
   "execution_count": 4,
   "id": "02f0a43e-9270-43dc-9150-6a4f97a99b26",
   "metadata": {
    "execution": {
     "iopub.execute_input": "2022-08-31T16:46:44.288156Z",
     "iopub.status.busy": "2022-08-31T16:46:44.287906Z",
     "iopub.status.idle": "2022-08-31T16:46:44.545494Z",
     "shell.execute_reply": "2022-08-31T16:46:44.544927Z",
     "shell.execute_reply.started": "2022-08-31T16:46:44.288134Z"
    },
    "papermill": {},
    "tags": []
   },
   "outputs": [],
   "source": [
    "email_subject = f\"📈 {ticker} predictions as of today\"\n",
    "email_from = naasauth.connect().user.me().get(\"username\")\n",
    "\n",
    "# Markdown template created on your local env\n",
    "email_content_md = path.join(OUTPUTS_PATH, \"email_content.md\")"
   ]
  },
  {
   "cell_type": "markdown",
   "id": "b9b9a046-0559-444c-916a-dfe5fe385edc",
   "metadata": {
    "papermill": {},
    "tags": []
   },
   "source": [
    "### Setup Inputs"
   ]
  },
  {
   "cell_type": "code",
   "execution_count": 5,
   "id": "4eb2d451-00ad-491b-be40-3d968f1adddd",
   "metadata": {
    "execution": {
     "iopub.execute_input": "2022-08-31T16:46:44.547525Z",
     "iopub.status.busy": "2022-08-31T16:46:44.547273Z",
     "iopub.status.idle": "2022-08-31T16:46:44.551298Z",
     "shell.execute_reply": "2022-08-31T16:46:44.550667Z",
     "shell.execute_reply.started": "2022-08-31T16:46:44.547494Z"
    },
    "papermill": {},
    "tags": []
   },
   "outputs": [],
   "source": [
    "csv_ticker = path.join(INPUTS_PATH, f\"{ticker}.csv\")\n",
    "pipeline_path = path.join(MODELS_PATH, \"__pipeline__.ipynb\")\n",
    "now = datetime.now().strftime(\"%Y-%m-%d\")\n",
    "excel_predict = path.join(OUTPUTS_PATH, f\"{ticker}_{now}.xlsx\")"
   ]
  },
  {
   "cell_type": "markdown",
   "id": "68ce42e9-46d2-4bcc-bd84-cc709f8b14dc",
   "metadata": {
    "execution": {
     "iopub.execute_input": "2022-08-30T09:05:43.852440Z",
     "iopub.status.busy": "2022-08-30T09:05:43.852098Z",
     "iopub.status.idle": "2022-08-30T09:05:43.855516Z",
     "shell.execute_reply": "2022-08-30T09:05:43.854874Z",
     "shell.execute_reply.started": "2022-08-30T09:05:43.852405Z"
    },
    "tags": []
   },
   "source": [
    "### Get assets link"
   ]
  },
  {
   "cell_type": "code",
   "execution_count": 6,
   "id": "9be40a58-f1f4-482a-ac8c-c6413b6c83bd",
   "metadata": {
    "execution": {
     "iopub.execute_input": "2022-08-31T16:46:44.552692Z",
     "iopub.status.busy": "2022-08-31T16:46:44.552321Z",
     "iopub.status.idle": "2022-08-31T16:46:44.665945Z",
     "shell.execute_reply": "2022-08-31T16:46:44.665124Z",
     "shell.execute_reply.started": "2022-08-31T16:46:44.552660Z"
    },
    "tags": []
   },
   "outputs": [],
   "source": [
    "asset_name = \"Plotly linechart\"\n",
    "\n",
    "data = get_naas_assets(asset_name)\n",
    "link_html = data.get(\"HTML_LINK\")\n",
    "link_image = data.get(\"IMAGE_LINK\")"
   ]
  },
  {
   "cell_type": "markdown",
   "id": "0a1ad0db-97b3-4f84-a82e-517595d95f17",
   "metadata": {
    "papermill": {},
    "tags": []
   },
   "source": [
    "## Model"
   ]
  },
  {
   "cell_type": "markdown",
   "id": "manufactured-allocation",
   "metadata": {
    "papermill": {},
    "tags": []
   },
   "source": [
    "### Get dataset from Yahoo Finance"
   ]
  },
  {
   "cell_type": "code",
   "execution_count": 7,
   "id": "powered-ensemble",
   "metadata": {
    "execution": {
     "iopub.execute_input": "2022-08-31T16:46:44.667079Z",
     "iopub.status.busy": "2022-08-31T16:46:44.666877Z",
     "iopub.status.idle": "2022-08-31T16:46:44.826180Z",
     "shell.execute_reply": "2022-08-31T16:46:44.825458Z",
     "shell.execute_reply.started": "2022-08-31T16:46:44.667051Z"
    },
    "papermill": {},
    "tags": []
   },
   "outputs": [
    {
     "name": "stdout",
     "output_type": "stream",
     "text": [
      "☑️ Rows fetched: 70\n"
     ]
    },
    {
     "data": {
      "text/html": [
       "<div>\n",
       "<style scoped>\n",
       "    .dataframe tbody tr th:only-of-type {\n",
       "        vertical-align: middle;\n",
       "    }\n",
       "\n",
       "    .dataframe tbody tr th {\n",
       "        vertical-align: top;\n",
       "    }\n",
       "\n",
       "    .dataframe thead th {\n",
       "        text-align: right;\n",
       "    }\n",
       "</style>\n",
       "<table border=\"1\" class=\"dataframe\">\n",
       "  <thead>\n",
       "    <tr style=\"text-align: right;\">\n",
       "      <th></th>\n",
       "      <th>Date</th>\n",
       "      <th>Open</th>\n",
       "      <th>High</th>\n",
       "      <th>Low</th>\n",
       "      <th>Close</th>\n",
       "      <th>Adj Close</th>\n",
       "      <th>Volume</th>\n",
       "      <th>Ticker</th>\n",
       "    </tr>\n",
       "  </thead>\n",
       "  <tbody>\n",
       "    <tr>\n",
       "      <th>69</th>\n",
       "      <td>2022-08-31</td>\n",
       "      <td>280.619995</td>\n",
       "      <td>281.200012</td>\n",
       "      <td>271.809998</td>\n",
       "      <td>276.149994</td>\n",
       "      <td>276.149994</td>\n",
       "      <td>27439995</td>\n",
       "      <td>TSLA</td>\n",
       "    </tr>\n",
       "  </tbody>\n",
       "</table>\n",
       "</div>"
      ],
      "text/plain": [
       "          Date        Open        High         Low       Close   Adj Close  \\\n",
       "69  2022-08-31  280.619995  281.200012  271.809998  276.149994  276.149994   \n",
       "\n",
       "      Volume Ticker  \n",
       "69  27439995   TSLA  "
      ]
     },
     "execution_count": 7,
     "metadata": {},
     "output_type": "execute_result"
    }
   ],
   "source": [
    "df_yahoo = pd.read_csv(csv_ticker)\n",
    "\n",
    "# Display dataframe\n",
    "print(\"☑️ Rows fetched:\", len(df_yahoo))\n",
    "df_yahoo.tail(1)"
   ]
  },
  {
   "cell_type": "markdown",
   "id": "9bf08bfc-bd3f-4d52-bacb-3a0e73ea4a21",
   "metadata": {
    "papermill": {},
    "tags": []
   },
   "source": [
    "### Get prediction"
   ]
  },
  {
   "cell_type": "code",
   "execution_count": 8,
   "id": "inside-sponsorship",
   "metadata": {
    "execution": {
     "iopub.execute_input": "2022-08-31T16:46:44.827461Z",
     "iopub.status.busy": "2022-08-31T16:46:44.827198Z",
     "iopub.status.idle": "2022-08-31T16:46:45.111312Z",
     "shell.execute_reply": "2022-08-31T16:46:45.110571Z",
     "shell.execute_reply.started": "2022-08-31T16:46:44.827428Z"
    },
    "papermill": {},
    "tags": []
   },
   "outputs": [
    {
     "name": "stdout",
     "output_type": "stream",
     "text": [
      "☑️ Rows fetched: 91\n"
     ]
    },
    {
     "data": {
      "text/html": [
       "<div>\n",
       "<style scoped>\n",
       "    .dataframe tbody tr th:only-of-type {\n",
       "        vertical-align: middle;\n",
       "    }\n",
       "\n",
       "    .dataframe tbody tr th {\n",
       "        vertical-align: top;\n",
       "    }\n",
       "\n",
       "    .dataframe thead th {\n",
       "        text-align: right;\n",
       "    }\n",
       "</style>\n",
       "<table border=\"1\" class=\"dataframe\">\n",
       "  <thead>\n",
       "    <tr style=\"text-align: right;\">\n",
       "      <th></th>\n",
       "      <th>Unnamed: 0</th>\n",
       "      <th>Date</th>\n",
       "      <th>Open</th>\n",
       "      <th>High</th>\n",
       "      <th>Low</th>\n",
       "      <th>Close</th>\n",
       "      <th>Adj Close</th>\n",
       "      <th>Volume</th>\n",
       "      <th>Ticker</th>\n",
       "      <th>ARIMA</th>\n",
       "      <th>LINEAR</th>\n",
       "      <th>SVR</th>\n",
       "      <th>COMPOUND</th>\n",
       "    </tr>\n",
       "  </thead>\n",
       "  <tbody>\n",
       "    <tr>\n",
       "      <th>0</th>\n",
       "      <td>0</td>\n",
       "      <td>2022-09-20</td>\n",
       "      <td>NaN</td>\n",
       "      <td>NaN</td>\n",
       "      <td>NaN</td>\n",
       "      <td>NaN</td>\n",
       "      <td>NaN</td>\n",
       "      <td>NaN</td>\n",
       "      <td>NaN</td>\n",
       "      <td>276.149994</td>\n",
       "      <td>282.196635</td>\n",
       "      <td>304.367525</td>\n",
       "      <td>287.571384</td>\n",
       "    </tr>\n",
       "  </tbody>\n",
       "</table>\n",
       "</div>"
      ],
      "text/plain": [
       "   Unnamed: 0       Date  Open  High  Low  Close  Adj Close  Volume Ticker  \\\n",
       "0           0 2022-09-20   NaN   NaN  NaN    NaN        NaN     NaN    NaN   \n",
       "\n",
       "        ARIMA      LINEAR         SVR    COMPOUND  \n",
       "0  276.149994  282.196635  304.367525  287.571384  "
      ]
     },
     "execution_count": 8,
     "metadata": {},
     "output_type": "execute_result"
    }
   ],
   "source": [
    "df_predict = pd.read_excel(excel_predict)\n",
    "\n",
    "# Display dataframe\n",
    "print(\"☑️ Rows fetched:\", len(df_predict))\n",
    "df_predict.head(1)"
   ]
  },
  {
   "cell_type": "markdown",
   "id": "qualified-abuse",
   "metadata": {
    "papermill": {},
    "tags": []
   },
   "source": [
    "### Set actual data and variation"
   ]
  },
  {
   "cell_type": "code",
   "execution_count": 9,
   "id": "c687f056-3a57-4f9e-9bdd-c790ae55e0d9",
   "metadata": {
    "execution": {
     "iopub.execute_input": "2022-08-31T16:46:45.112774Z",
     "iopub.status.busy": "2022-08-31T16:46:45.112488Z",
     "iopub.status.idle": "2022-08-31T16:46:45.123059Z",
     "shell.execute_reply": "2022-08-31T16:46:45.122330Z",
     "shell.execute_reply.started": "2022-08-31T16:46:45.112738Z"
    },
    "papermill": {},
    "tags": []
   },
   "outputs": [
    {
     "name": "stdout",
     "output_type": "stream",
     "text": [
      "Value today: $276.10\n",
      "Value yesterday: $277.70\n",
      "Var. in value: -1.55\n",
      "Var. in %: -0.56%\n"
     ]
    }
   ],
   "source": [
    "def get_variation(df):\n",
    "    df = df.sort_values(\"Date\", ascending=False).reset_index(drop=True)\n",
    "    \n",
    "    # Get value and value comp\n",
    "    datanow = df.loc[0, \"Close\"]\n",
    "    datayesterday = df.loc[1, \"Close\"]\n",
    "    \n",
    "    # Calc variation en value and %\n",
    "    varv = datanow - datayesterday\n",
    "    varp = (varv / datanow)\n",
    "    \n",
    "    # Format result\n",
    "    datanow = \"${:,.2f}\".format(round(datanow, 1))\n",
    "    datayesterday = \"${:,.2f}\".format(round(datayesterday, 1))\n",
    "    varv = \"{:+,.2f}\".format(varv)\n",
    "    varp = \"{:+,.2%}\".format(varp)\n",
    "    return datanow, datayesterday, varv, varp\n",
    "\n",
    "DATANOW, DATAYESTERDAY, VARV, VARP = get_variation(df_yahoo)\n",
    "print(\"Value today:\", DATANOW)\n",
    "print(\"Value yesterday:\", DATAYESTERDAY)\n",
    "print(\"Var. in value:\", VARV)\n",
    "print(\"Var. in %:\", VARP)"
   ]
  },
  {
   "cell_type": "markdown",
   "id": "organic-montana",
   "metadata": {
    "execution": {
     "iopub.execute_input": "2021-04-02T19:41:00.756597Z",
     "iopub.status.busy": "2021-04-02T19:41:00.756289Z",
     "iopub.status.idle": "2021-04-02T19:41:00.765290Z",
     "shell.execute_reply": "2021-04-02T19:41:00.764718Z",
     "shell.execute_reply.started": "2021-04-02T19:41:00.756562Z"
    },
    "papermill": {},
    "tags": []
   },
   "source": [
    "### Set predict data"
   ]
  },
  {
   "cell_type": "code",
   "execution_count": 10,
   "id": "f4c0ec8a-55bb-4018-b0f7-df956ae8d93b",
   "metadata": {
    "execution": {
     "iopub.execute_input": "2022-08-31T16:46:45.124415Z",
     "iopub.status.busy": "2022-08-31T16:46:45.124174Z",
     "iopub.status.idle": "2022-08-31T16:46:45.231432Z",
     "shell.execute_reply": "2022-08-31T16:46:45.230724Z",
     "shell.execute_reply.started": "2022-08-31T16:46:45.124391Z"
    },
    "papermill": {},
    "tags": []
   },
   "outputs": [
    {
     "name": "stdout",
     "output_type": "stream",
     "text": [
      "Value ARIMA: $276.10\n",
      "Value SVR: $304.40\n",
      "Value LINEAR: $282.20\n",
      "Value COMPOUND: $287.60\n"
     ]
    }
   ],
   "source": [
    "def get_prediction(df, prediction):\n",
    "    data = df.loc[0, prediction]\n",
    "    \n",
    "    # Format result\n",
    "    data = \"${:,.2f}\".format(round(data, 1))\n",
    "    return data\n",
    "\n",
    "ARIMA = get_prediction(df_predict, \"ARIMA\")\n",
    "print(\"Value ARIMA:\", ARIMA)\n",
    "SVR = get_prediction(df_predict, \"SVR\")\n",
    "print(\"Value SVR:\", SVR)\n",
    "LINEAR = get_prediction(df_predict, \"LINEAR\")\n",
    "print(\"Value LINEAR:\", LINEAR)\n",
    "COMPOUND = get_prediction(df_predict, \"COMPOUND\")\n",
    "print(\"Value COMPOUND:\", COMPOUND)"
   ]
  },
  {
   "cell_type": "markdown",
   "id": "280093d2-1b8e-44a1-8bb3-3985fd7e0367",
   "metadata": {
    "papermill": {},
    "tags": []
   },
   "source": [
    "### Create webhook to run your notebook again"
   ]
  },
  {
   "cell_type": "code",
   "execution_count": 11,
   "id": "0f72adbf-be8e-444b-a01d-d789643a9783",
   "metadata": {
    "execution": {
     "iopub.execute_input": "2022-08-31T16:46:45.234955Z",
     "iopub.status.busy": "2022-08-31T16:46:45.234686Z",
     "iopub.status.idle": "2022-08-31T16:46:45.743368Z",
     "shell.execute_reply": "2022-08-31T16:46:45.742671Z",
     "shell.execute_reply.started": "2022-08-31T16:46:45.234925Z"
    },
    "papermill": {},
    "tags": []
   },
   "outputs": [
    {
     "name": "stdout",
     "output_type": "stream",
     "text": [
      "👌 Well done! Your Notebook has been sent to production.\n",
      "\n"
     ]
    },
    {
     "data": {
      "application/javascript": [
       "\n",
       "    if (!window.copyToClipboard) {\n",
       "        window.copyToClipboard = (text) => {\n",
       "            const dummy = document.createElement(\"textarea\");\n",
       "            document.body.appendChild(dummy);\n",
       "            dummy.value = text;\n",
       "            dummy.select();\n",
       "            document.execCommand(\"copy\");\n",
       "            document.body.removeChild(dummy);\n",
       "        }\n",
       "    }\n",
       "    "
      ],
      "text/plain": [
       "<IPython.core.display.Javascript object>"
      ]
     },
     "metadata": {},
     "output_type": "display_data"
    },
    {
     "data": {
      "application/vnd.jupyter.widget-view+json": {
       "model_id": "530ace6810874402abdc2296c4bf3cd2",
       "version_major": 2,
       "version_minor": 0
      },
      "text/plain": [
       "Button(button_style='primary', description='Copy URL', style=ButtonStyle())"
      ]
     },
     "metadata": {},
     "output_type": "display_data"
    },
    {
     "data": {
      "application/vnd.jupyter.widget-view+json": {
       "model_id": "e6e9d83298a8470d9be5968671381e89",
       "version_major": 2,
       "version_minor": 0
      },
      "text/plain": [
       "Output()"
      ]
     },
     "metadata": {},
     "output_type": "display_data"
    },
    {
     "name": "stdout",
     "output_type": "stream",
     "text": [
      "PS: to remove the \"Notebook as API\" feature, just replace .add by .delete\n"
     ]
    }
   ],
   "source": [
    "link_webhook = naas.webhook.add(pipeline_path)"
   ]
  },
  {
   "cell_type": "markdown",
   "id": "cutting-credit",
   "metadata": {
    "papermill": {},
    "tags": []
   },
   "source": [
    "### Create Email template "
   ]
  },
  {
   "cell_type": "code",
   "execution_count": 12,
   "id": "77f402e0-e200-4338-9e55-8f229eca4aeb",
   "metadata": {
    "execution": {
     "iopub.execute_input": "2022-08-31T16:46:45.744880Z",
     "iopub.status.busy": "2022-08-31T16:46:45.744500Z",
     "iopub.status.idle": "2022-08-31T16:46:45.771952Z",
     "shell.execute_reply": "2022-08-31T16:46:45.771293Z",
     "shell.execute_reply.started": "2022-08-31T16:46:45.744847Z"
    },
    "papermill": {},
    "tags": []
   },
   "outputs": [
    {
     "name": "stdout",
     "output_type": "stream",
     "text": [
      "Overwriting /home/ftp/data-product-template/outputs/email_content.md\n"
     ]
    }
   ],
   "source": [
    "%%writefile $email_content_md\n",
    "Hello world,\n",
    "\n",
    "The **TICKER** price is **DATANOW** right now, VARV vs yesterday (VARP).<br>\n",
    "Yesterday close : DATAYESTERDAY\n",
    "\n",
    "In +DATA_POINT days, basic ML models predict the following prices: \n",
    "\n",
    "- **arima**: ARIMA\n",
    "- **svr**: SVR\n",
    "- **linear**: LINEAR\n",
    "- **compound**: COMPOUND\n",
    "    \n",
    "<img href=link_html target=\"_blank\" src=link_image style=\"width:640px; height:360px;\" /><br>\n",
    "[Open dynamic chart](link_html)<br>\n",
    "\n",
    "Please find attached the data in Excel.<br>\n",
    "\n",
    "Have a nice day.\n",
    "<br>\n",
    "\n",
    "PS: You can [send the email again](link_webhook) if you need a fresh update.<br>\n",
    "<div><strong>Full Name</strong></div>\n",
    "<div>Open source lover | <a href=\"http://www.naas.ai/\" target=\"_blank\">Naas</a></div>\n",
    "<div>+ 33 1 23 45 67 89</div>\n",
    "<div><small>This is an automated email from my Naas account</small></div>"
   ]
  },
  {
   "cell_type": "markdown",
   "id": "encouraging-tomorrow",
   "metadata": {
    "papermill": {},
    "tags": []
   },
   "source": [
    "### Replace values in templates"
   ]
  },
  {
   "cell_type": "code",
   "execution_count": 13,
   "id": "87401bf2-7bb1-41f6-b409-b3201ff195f5",
   "metadata": {
    "execution": {
     "iopub.execute_input": "2022-08-31T16:46:45.773334Z",
     "iopub.status.busy": "2022-08-31T16:46:45.772975Z",
     "iopub.status.idle": "2022-08-31T16:46:45.850702Z",
     "shell.execute_reply": "2022-08-31T16:46:45.850059Z",
     "shell.execute_reply.started": "2022-08-31T16:46:45.773301Z"
    },
    "papermill": {},
    "tags": []
   },
   "outputs": [],
   "source": [
    "def replace_value(md):\n",
    "    post = md.replace(\"DATANOW\", str(DATANOW))\n",
    "    post = post.replace(\"TICKER\", str(ticker))\n",
    "    post = post.replace(\"DATAYESTERDAY\", str(DATAYESTERDAY))\n",
    "    post = post.replace(\"VARV\", str(VARV))\n",
    "    post = post.replace(\"VARP\", str(VARP))\n",
    "    post = post.replace(\"LINEAR\", str(LINEAR))\n",
    "    post = post.replace(\"SVR\", str(SVR))\n",
    "    post = post.replace(\"COMPOUND\", str(COMPOUND))\n",
    "    post = post.replace(\"ARIMA\", str(ARIMA))\n",
    "    post = post.replace(\"DATA_POINT\", str(data_point))\n",
    "    post = post.replace(\"link_image\", str(link_image))\n",
    "    post = post.replace(\"link_html\", str(link_html))\n",
    "    post = post.replace(\"link_webhook\", str(link_webhook))\n",
    "    return post"
   ]
  },
  {
   "cell_type": "markdown",
   "id": "08b62353-65c3-478c-806a-7b3b9957faf3",
   "metadata": {
    "papermill": {},
    "tags": []
   },
   "source": [
    "### Create Email content"
   ]
  },
  {
   "cell_type": "code",
   "execution_count": 14,
   "id": "7898bb59-0635-472b-b5dc-5e016fce4b43",
   "metadata": {
    "execution": {
     "iopub.execute_input": "2022-08-31T16:46:45.851987Z",
     "iopub.status.busy": "2022-08-31T16:46:45.851696Z",
     "iopub.status.idle": "2022-08-31T16:46:45.970873Z",
     "shell.execute_reply": "2022-08-31T16:46:45.970326Z",
     "shell.execute_reply.started": "2022-08-31T16:46:45.851954Z"
    },
    "papermill": {},
    "tags": []
   },
   "outputs": [
    {
     "data": {
      "text/html": [
       "<p>Hello world,</p>\n",
       "\n",
       "<p>The <strong>TSLA</strong> price is <strong>$276.10</strong> right now, -1.55 vs yesterday (-0.56%).<br>\n",
       "Yesterday close : $277.70</p>\n",
       "\n",
       "<p>In +20 days, basic ML models predict the following prices: </p>\n",
       "\n",
       "<ul>\n",
       "<li><strong>arima</strong>: $276.10</li>\n",
       "<li><strong>svr</strong>: $304.40</li>\n",
       "<li><strong>linear</strong>: $282.20</li>\n",
       "<li><strong>compound</strong>: $287.60</li>\n",
       "</ul>\n",
       "\n",
       "<p><img href=https://public.naas.ai/ZmxvcmVudC00MG5hYXMtMkVhaQ==/asset/9d70c8d3d434c27da382a0ac956d820a061e9a053d521f153b704a9b2b94 target=\"_blank\" src=https://public.naas.ai/ZmxvcmVudC00MG5hYXMtMkVhaQ==/asset/80544f44596f8405ea0107de6b9391d517c74094b257b65817cc7a76e477.png style=\"width:640px; height:360px;\" /><br>\n",
       "<a href=\"https://public.naas.ai/ZmxvcmVudC00MG5hYXMtMkVhaQ==/asset/9d70c8d3d434c27da382a0ac956d820a061e9a053d521f153b704a9b2b94\">Open dynamic chart</a><br></p>\n",
       "\n",
       "<p>Please find attached the data in Excel.<br></p>\n",
       "\n",
       "<p>Have a nice day.\n",
       "<br></p>\n",
       "\n",
       "<p>PS: You can <a href=\"https://public.naas.ai/ZmxvcmVudC00MG5hYXMtMkVhaQ==/notebook/90a7f8e36e886bc421fa79fbd49a4a4016d6d5b2b334da19995da1cdd411\">send the email again</a> if you need a fresh update.<br></p>\n",
       "\n",
       "<div><strong>Full Name</strong></div>\n",
       "\n",
       "<div>Open source lover | <a href=\"http://www.naas.ai/\" target=\"_blank\">Naas</a></div>\n",
       "\n",
       "<div>+ 33 1 23 45 67 89</div>\n",
       "\n",
       "<div><small>This is an automated email from my Naas account</small></div>\n"
      ],
      "text/plain": [
       "<IPython.core.display.HTML object>"
      ]
     },
     "metadata": {},
     "output_type": "display_data"
    }
   ],
   "source": [
    "content = open(email_content_md, \"r\").read()\n",
    "md = markdown2.markdown(content)\n",
    "email_content = replace_value(md)\n",
    "display(HTML(email_content))"
   ]
  },
  {
   "cell_type": "markdown",
   "id": "d71d8ad4-697d-4d4e-be8c-6c7d54d174e0",
   "metadata": {
    "papermill": {},
    "tags": []
   },
   "source": [
    "## Output"
   ]
  },
  {
   "cell_type": "markdown",
   "id": "quantitative-trader",
   "metadata": {
    "papermill": {},
    "tags": []
   },
   "source": [
    "### Send Email"
   ]
  },
  {
   "cell_type": "code",
   "execution_count": 15,
   "id": "33559718-1af4-458e-a972-ff7ac7466e34",
   "metadata": {
    "execution": {
     "iopub.execute_input": "2022-08-31T16:46:45.972955Z",
     "iopub.status.busy": "2022-08-31T16:46:45.972774Z",
     "iopub.status.idle": "2022-08-31T16:46:47.152364Z",
     "shell.execute_reply": "2022-08-31T16:46:47.151625Z",
     "shell.execute_reply.started": "2022-08-31T16:46:45.972934Z"
    },
    "papermill": {},
    "tags": []
   },
   "outputs": [
    {
     "name": "stdout",
     "output_type": "stream",
     "text": [
      "👌 💌 Email has been sent successfully !\n"
     ]
    }
   ],
   "source": [
    "naas.notification.send(email_to=email_to,\n",
    "                       subject=email_subject,\n",
    "                       html=email_content,\n",
    "                       files=[excel_predict],\n",
    "                       email_from=email_from)"
   ]
  }
 ],
 "metadata": {
  "kernelspec": {
   "display_name": "Python 3",
   "language": "python",
   "name": "python3"
  },
  "language_info": {
   "codemirror_mode": {
    "name": "ipython",
    "version": 3
   },
   "file_extension": ".py",
   "mimetype": "text/x-python",
   "name": "python",
   "nbconvert_exporter": "python",
   "pygments_lexer": "ipython3",
   "version": "3.9.6"
  },
  "naas": {
   "notebook_id": "32f321ba-c5df-4e6a-9e67-e7eb95aa95c6",
   "notebook_path": "YahooFinance/YahooFinance_Send_daily_prediction_to_Email.ipynb"
  },
  "papermill": {
   "default_parameters": {},
   "environment_variables": {},
   "parameters": {},
   "version": "2.3.3"
  },
  "toc-autonumbering": false,
  "widgets": {
   "application/vnd.jupyter.widget-state+json": {
    "state": {},
    "version_major": 2,
    "version_minor": 0
   }
  }
 },
 "nbformat": 4,
 "nbformat_minor": 5
}
