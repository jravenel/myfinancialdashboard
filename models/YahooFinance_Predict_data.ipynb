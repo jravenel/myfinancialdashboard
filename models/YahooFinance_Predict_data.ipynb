{
 "cells": [
  {
   "cell_type": "markdown",
   "id": "0945c819-fd6f-4dc2-93d7-9742277989f9",
   "metadata": {
    "papermill": {},
    "tags": []
   },
   "source": [
    "<img width=\"10%\" alt=\"Naas\" src=\"https://landen.imgix.net/jtci2pxwjczr/assets/5ice39g4.png?w=160\"/>"
   ]
  },
  {
   "cell_type": "markdown",
   "id": "descending-grammar",
   "metadata": {
    "papermill": {},
    "tags": []
   },
   "source": [
    "# YahooFinance - Predict data\n",
    "<a href=\"https://app.naas.ai/user-redirect/naas/downloader?url=https://raw.githubusercontent.com/jupyter-naas/awesome-notebooks/master/YahooFinance/YahooFinance_Send_daily_prediction_to_Email.ipynb\" target=\"_parent\"><img src=\"https://naasai-public.s3.eu-west-3.amazonaws.com/open_in_naas.svg\"/></a>"
   ]
  },
  {
   "cell_type": "markdown",
   "id": "ea0f4d52-5687-4719-9b35-e5abcc48328b",
   "metadata": {
    "papermill": {},
    "tags": []
   },
   "source": [
    "**Tags:** #yahoofinance #trading #prediction #naas_drivers"
   ]
  },
  {
   "cell_type": "markdown",
   "id": "15ce5111-42e8-479f-9002-975023b1d5f1",
   "metadata": {
    "papermill": {},
    "tags": []
   },
   "source": [
    "**Author:** [Florent Ravenel](https://www.linkedin.com/in/florent-ravenel/)"
   ]
  },
  {
   "cell_type": "markdown",
   "id": "d17064b3-00b5-4d71-96ba-38c6af450919",
   "metadata": {
    "papermill": {},
    "tags": []
   },
   "source": [
    "## Input"
   ]
  },
  {
   "cell_type": "markdown",
   "id": "188c4924-ea0f-42c1-bf7d-95b1b321bc03",
   "metadata": {},
   "source": [
    "### Get utils"
   ]
  },
  {
   "cell_type": "code",
   "execution_count": null,
   "id": "f86973ef-a1b0-4d94-9c87-7b2c44f4b0e7",
   "metadata": {
    "tags": []
   },
   "outputs": [],
   "source": [
    "# Load utils functions\n",
    "from os import path\n",
    "\n",
    "utils_path = \"../utils/__utils__.ipynb\"\n",
    "if not path.exists(utils_path):\n",
    "    utils_path = \"utils/__utils__.ipynb\"\n",
    "\n",
    "%run \"$utils_path\""
   ]
  },
  {
   "cell_type": "markdown",
   "id": "1d8f5e20-bcfc-4ceb-83ad-0856868327a0",
   "metadata": {
    "papermill": {},
    "tags": []
   },
   "source": [
    "### Import libraries"
   ]
  },
  {
   "cell_type": "code",
   "execution_count": null,
   "id": "3d065bd9-ae16-4b65-b025-09c0b9a13138",
   "metadata": {
    "papermill": {},
    "tags": []
   },
   "outputs": [],
   "source": [
    "import pandas as pd\n",
    "from naas_drivers import prediction\n",
    "from datetime import datetime"
   ]
  },
  {
   "cell_type": "markdown",
   "id": "06fd0514-94ca-44c7-8dc8-4ce2cbfbeee7",
   "metadata": {},
   "source": [
    "### Get Params"
   ]
  },
  {
   "cell_type": "code",
   "execution_count": null,
   "id": "83dbd4f9-2116-462b-8397-3bc876db3977",
   "metadata": {
    "tags": []
   },
   "outputs": [],
   "source": [
    "ticker = PARAMS.get(\"TICKER\")\n",
    "data_point = PARAMS.get(\"DATA_POINT\")"
   ]
  },
  {
   "cell_type": "markdown",
   "id": "3543688e-e84f-4e6d-9f54-ed177778022d",
   "metadata": {},
   "source": [
    "### Setup Inputs"
   ]
  },
  {
   "cell_type": "code",
   "execution_count": null,
   "id": "170f4f32-4db8-4fbf-9642-986a65383f97",
   "metadata": {},
   "outputs": [],
   "source": [
    "csv_ticker = path.join(INPUTS_PATH, f\"{ticker}.csv\")"
   ]
  },
  {
   "cell_type": "markdown",
   "id": "0697b818-544d-4859-974e-f87076e7a198",
   "metadata": {},
   "source": [
    "### Setup Outputs"
   ]
  },
  {
   "cell_type": "code",
   "execution_count": null,
   "id": "e01c766b-5c99-4acf-bc2e-9f27fbc9cf00",
   "metadata": {
    "tags": []
   },
   "outputs": [],
   "source": [
    "now = datetime.now().strftime(\"%Y-%m-%d\")\n",
    "excel_predict = path.join(OUTPUTS_PATH, f\"{ticker}_{now}.xlsx\")"
   ]
  },
  {
   "cell_type": "markdown",
   "id": "0a1ad0db-97b3-4f84-a82e-517595d95f17",
   "metadata": {
    "papermill": {},
    "tags": []
   },
   "source": [
    "## Model"
   ]
  },
  {
   "cell_type": "markdown",
   "id": "manufactured-allocation",
   "metadata": {
    "papermill": {},
    "tags": []
   },
   "source": [
    "### Get dataset from Yahoo Finance"
   ]
  },
  {
   "cell_type": "code",
   "execution_count": null,
   "id": "powered-ensemble",
   "metadata": {
    "papermill": {},
    "tags": []
   },
   "outputs": [],
   "source": [
    "df_yahoo = pd.read_csv(csv_ticker)\n",
    "\n",
    "# Display dataframe\n",
    "print(\"☑️ Rows fetched:\", len(df_yahoo))\n",
    "df_yahoo.head(1)"
   ]
  },
  {
   "cell_type": "markdown",
   "id": "9bf08bfc-bd3f-4d52-bacb-3a0e73ea4a21",
   "metadata": {
    "papermill": {},
    "tags": []
   },
   "source": [
    "### Add prediction columns"
   ]
  },
  {
   "cell_type": "code",
   "execution_count": null,
   "id": "inside-sponsorship",
   "metadata": {
    "papermill": {},
    "tags": []
   },
   "outputs": [],
   "source": [
    "df_predict = prediction.get(dataset=df_yahoo,\n",
    "                            date_column='Date',\n",
    "                            column=\"Close\",\n",
    "                            data_points=int(data_point),\n",
    "                            prediction_type=\"all\").sort_values(\"Date\", ascending=False).reset_index(drop=True)\n",
    "# Display dataframe\n",
    "print(\"☑️ Rows fetched:\", len(df_predict))\n",
    "df_predict.head(int(data_point)+5)"
   ]
  },
  {
   "cell_type": "markdown",
   "id": "d71d8ad4-697d-4d4e-be8c-6c7d54d174e0",
   "metadata": {
    "papermill": {},
    "tags": []
   },
   "source": [
    "## Output"
   ]
  },
  {
   "cell_type": "markdown",
   "id": "4c3b1e52-c5bc-4731-8cb7-444f9e2b12b6",
   "metadata": {
    "papermill": {},
    "tags": []
   },
   "source": [
    "### Save data in Excel"
   ]
  },
  {
   "cell_type": "code",
   "execution_count": null,
   "id": "8b232139-240f-4538-99d6-2ea557e5bffd",
   "metadata": {
    "papermill": {},
    "tags": []
   },
   "outputs": [],
   "source": [
    "df_predict.to_excel(excel_predict)"
   ]
  }
 ],
 "metadata": {
  "kernelspec": {
   "display_name": "Python 3",
   "language": "python",
   "name": "python3"
  },
  "language_info": {
   "codemirror_mode": {
    "name": "ipython",
    "version": 3
   },
   "file_extension": ".py",
   "mimetype": "text/x-python",
   "name": "python",
   "nbconvert_exporter": "python",
   "pygments_lexer": "ipython3",
   "version": "3.9.6"
  },
  "naas": {
   "notebook_id": "32f321ba-c5df-4e6a-9e67-e7eb95aa95c6",
   "notebook_path": "YahooFinance/YahooFinance_Send_daily_prediction_to_Email.ipynb"
  },
  "papermill": {
   "default_parameters": {},
   "environment_variables": {},
   "parameters": {},
   "version": "2.3.3"
  },
  "toc-autonumbering": false,
  "widgets": {
   "application/vnd.jupyter.widget-state+json": {
    "state": {},
    "version_major": 2,
    "version_minor": 0
   }
  }
 },
 "nbformat": 4,
 "nbformat_minor": 5
}
