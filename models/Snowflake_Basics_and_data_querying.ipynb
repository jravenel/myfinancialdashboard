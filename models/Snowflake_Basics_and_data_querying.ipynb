{
 "cells": [
  {
   "cell_type": "markdown",
   "id": "a455a520",
   "metadata": {
    "papermill": {},
    "tags": []
   },
   "source": [
    "<img width=\"10%\" alt=\"Naas\" src=\"https://landen.imgix.net/jtci2pxwjczr/assets/5ice39g4.png?w=160\"/>"
   ]
  },
  {
   "cell_type": "markdown",
   "id": "1e9447c1",
   "metadata": {
    "papermill": {},
    "tags": []
   },
   "source": [
    "# Snowflake - Basics and data querying\n",
    "<a href=\"https://app.naas.ai/user-redirect/naas/downloader?url=https://raw.githubusercontent.com/jupyter-naas/awesome-notebooks/master/Snowflake/Snowflake_Basics_and_data_querying.ipynb\" target=\"_parent\"><img src=\"https://naasai-public.s3.eu-west-3.amazonaws.com/open_in_naas.svg\"/></a><br><br><a href=\"https://github.com/jupyter-naas/awesome-notebooks/issues/new?assignees=&labels=&template=template-request.md&title=Tool+-+Action+of+the+notebook+\">Template request</a> | <a href=\"https://github.com/jupyter-naas/awesome-notebooks/issues/new?assignees=&labels=bug&template=bug_report.md&title=Snowflake+-+Basics+and+data+querying:+Error+short+description\">Bug report</a>"
   ]
  },
  {
   "cell_type": "markdown",
   "id": "87a809a1",
   "metadata": {
    "papermill": {},
    "tags": []
   },
   "source": [
    "**Tags:** #snowflake #data #warehouse #naas_drivers #snippet"
   ]
  },
  {
   "cell_type": "markdown",
   "id": "3254535b",
   "metadata": {
    "papermill": {},
    "tags": []
   },
   "source": [
    "**Author:** [Mateusz Polakowski](https://www.linkedin.com/in/polakowski/)"
   ]
  },
  {
   "cell_type": "markdown",
   "id": "203204bb",
   "metadata": {
    "papermill": {},
    "tags": []
   },
   "source": [
    "This notebook shows basic usage of Snowflake driver.\n",
    "\n",
    "Below you can find essential operations for setting up the environment and querying data that already exists in your data warehouse."
   ]
  },
  {
   "cell_type": "markdown",
   "id": "dab99962",
   "metadata": {
    "papermill": {},
    "tags": []
   },
   "source": [
    "## Input"
   ]
  },
  {
   "cell_type": "markdown",
   "id": "dc37fcff",
   "metadata": {
    "papermill": {},
    "tags": []
   },
   "source": [
    "### Import library"
   ]
  },
  {
   "cell_type": "code",
   "execution_count": 1,
   "id": "7cc5ec8b",
   "metadata": {
    "papermill": {},
    "tags": []
   },
   "outputs": [],
   "source": [
    "import os\n",
    "from naas_drivers import snowflake\n",
    "from snowflake.connector.errors import ProgrammingError"
   ]
  },
  {
   "cell_type": "markdown",
   "id": "6d6b5bfb",
   "metadata": {
    "papermill": {},
    "tags": []
   },
   "source": [
    "### Setup Snowflake account\n",
    "\n",
    "If you don't have your SF account, you can easily set up a [30-day trial account with $400 budget here](https://signup.snowflake.com/).\n",
    "\n",
    "To get your Snowflake account ID essential for connecting, please refer to [Account Identifiers in Snowflake documentation](https://docs.snowflake.com/en/user-guide/admin-account-identifier.html). There are several methods to get your account ID, but the overall rule can be found below:\n",
    "\n",
    "```<account_identifier>.snowflakecomputing.com```\n",
    "\n",
    "If you're proceeding with the trial account, it's highly probable that your ID will resemble something like: `xy1234.eu-central-1`."
   ]
  },
  {
   "cell_type": "markdown",
   "id": "fee8126d",
   "metadata": {
    "papermill": {},
    "tags": []
   },
   "source": [
    "### Credentials"
   ]
  },
  {
   "cell_type": "code",
   "execution_count": 2,
   "id": "5164c142",
   "metadata": {
    "papermill": {},
    "tags": []
   },
   "outputs": [],
   "source": [
    "# Here environment variables are used to pass Snowflake credentials, \n",
    "# but it's okay to do it in a different manner\n",
    "\n",
    "sf_username=os.environ['SNOWFLAKE_USER']\n",
    "sf_password=os.environ['SNOWFLAKE_PASSWORD']\n",
    "sf_account=os.environ['SNOWFLAKE_ACCOUNT']"
   ]
  },
  {
   "cell_type": "markdown",
   "id": "29f1ddd1",
   "metadata": {
    "papermill": {},
    "tags": []
   },
   "source": [
    "## Model"
   ]
  },
  {
   "cell_type": "markdown",
   "id": "b41ecd1f",
   "metadata": {
    "papermill": {},
    "tags": []
   },
   "source": [
    "### Connecting to your Snowflake account"
   ]
  },
  {
   "cell_type": "code",
   "execution_count": 3,
   "id": "c2732a9e",
   "metadata": {
    "papermill": {},
    "tags": []
   },
   "outputs": [],
   "source": [
    "snowflake.connect(\n",
    "    username=sf_username,\n",
    "    password=sf_password,\n",
    "    account=sf_account\n",
    ")"
   ]
  },
  {
   "cell_type": "markdown",
   "id": "6837caa0",
   "metadata": {
    "papermill": {},
    "tags": []
   },
   "source": [
    "### Environment setup"
   ]
  },
  {
   "cell_type": "code",
   "execution_count": 4,
   "id": "4c8497a3",
   "metadata": {
    "papermill": {},
    "tags": []
   },
   "outputs": [],
   "source": [
    "snowflake.database.get_current() is None"
   ]
  },
  {
   "cell_type": "code",
   "execution_count": 5,
   "id": "e135b9e4",
   "metadata": {
    "papermill": {},
    "tags": []
   },
   "outputs": [],
   "source": [
    "snowflake.set_environment(\n",
    "    warehouse='COMPUTE_WH',\n",
    "    database='SNOWFLAKE_SAMPLE_DATA',\n",
    "    schema='TPCH_SF100',\n",
    "    role='ACCOUNTADMIN'\n",
    ")"
   ]
  },
  {
   "cell_type": "code",
   "execution_count": 6,
   "id": "4b723848",
   "metadata": {
    "papermill": {},
    "tags": []
   },
   "outputs": [],
   "source": [
    "snowflake.get_environment()"
   ]
  },
  {
   "cell_type": "markdown",
   "id": "e3c56790",
   "metadata": {
    "papermill": {},
    "tags": []
   },
   "source": [
    "## Output"
   ]
  },
  {
   "cell_type": "markdown",
   "id": "55d1d27c",
   "metadata": {
    "papermill": {},
    "tags": []
   },
   "source": [
    "### Creating new database and schema"
   ]
  },
  {
   "cell_type": "code",
   "execution_count": 7,
   "id": "0741b338",
   "metadata": {
    "papermill": {},
    "tags": []
   },
   "outputs": [],
   "source": [
    "snowflake.database.create('NAAS', or_replace=True)"
   ]
  },
  {
   "cell_type": "code",
   "execution_count": 8,
   "id": "6967ec0c",
   "metadata": {
    "papermill": {},
    "tags": []
   },
   "outputs": [],
   "source": [
    "snowflake.database.use('NAAS', silent=True)"
   ]
  },
  {
   "cell_type": "code",
   "execution_count": 9,
   "id": "f1152b80",
   "metadata": {
    "papermill": {},
    "tags": []
   },
   "outputs": [],
   "source": [
    "snowflake.schema.create('INGESTION_SCHEMA', silent=True)"
   ]
  },
  {
   "cell_type": "code",
   "execution_count": 10,
   "id": "162c88b4",
   "metadata": {
    "papermill": {},
    "tags": []
   },
   "outputs": [],
   "source": [
    "snowflake.schema.use('INGESTION_SCHEMA', True)"
   ]
  },
  {
   "cell_type": "markdown",
   "id": "e4230448",
   "metadata": {
    "papermill": {},
    "tags": []
   },
   "source": [
    "### Executing custom query with a cursor"
   ]
  },
  {
   "cell_type": "code",
   "execution_count": 11,
   "id": "593750ef",
   "metadata": {
    "papermill": {},
    "tags": []
   },
   "outputs": [],
   "source": [
    "snowflake.cursor.execute('SHOW SCHEMAS;').fetchall()"
   ]
  },
  {
   "cell_type": "markdown",
   "id": "eaedf893",
   "metadata": {
    "papermill": {},
    "tags": []
   },
   "source": [
    "### Data querying - wrong schema"
   ]
  },
  {
   "cell_type": "code",
   "execution_count": 12,
   "id": "f88f5bd5",
   "metadata": {
    "papermill": {},
    "tags": []
   },
   "outputs": [],
   "source": [
    "snowflake.get_environment()"
   ]
  },
  {
   "cell_type": "code",
   "execution_count": 13,
   "id": "d46d97db",
   "metadata": {
    "papermill": {},
    "tags": []
   },
   "outputs": [],
   "source": [
    "query = 'SELECT * FROM CUSTOMER;'"
   ]
  },
  {
   "cell_type": "code",
   "execution_count": 14,
   "id": "70ae3291",
   "metadata": {
    "papermill": {},
    "scrolled": true,
    "tags": []
   },
   "outputs": [],
   "source": [
    "# Querying table that doesn't exist in NAAS/INGESTION_SCHEMA\n",
    "try:\n",
    "    results_1_not_working = snowflake.execute(query)\n",
    "except ProgrammingError as pe:\n",
    "    print('Something went wrong!')\n",
    "    print(pe)"
   ]
  },
  {
   "cell_type": "markdown",
   "id": "f8fd613f",
   "metadata": {
    "papermill": {},
    "tags": []
   },
   "source": [
    "### Data querying - valid command run with session environment properly set up"
   ]
  },
  {
   "cell_type": "code",
   "execution_count": 15,
   "id": "541b0b67",
   "metadata": {
    "papermill": {},
    "tags": []
   },
   "outputs": [],
   "source": [
    "snowflake.set_environment(\n",
    "    database = 'SNOWFLAKE_SAMPLE_DATA',\n",
    "    schema = 'TPCH_SF100'\n",
    ")"
   ]
  },
  {
   "cell_type": "code",
   "execution_count": 16,
   "id": "8f345499",
   "metadata": {
    "papermill": {},
    "scrolled": true,
    "tags": []
   },
   "outputs": [],
   "source": [
    "results_1_working = snowflake.execute(query)\n",
    "results_1_working"
   ]
  },
  {
   "cell_type": "markdown",
   "id": "98c48d43",
   "metadata": {
    "papermill": {},
    "tags": []
   },
   "source": [
    "### Data querying - another valid command run"
   ]
  },
  {
   "cell_type": "code",
   "execution_count": 17,
   "id": "de668f4b",
   "metadata": {
    "papermill": {},
    "tags": []
   },
   "outputs": [],
   "source": [
    "results_2 = snowflake.execute(query, n=100)\n",
    "\n",
    "print(f\"Rows returned: {len(results_2['results'])}\")\n",
    "results_2['results'][:2]"
   ]
  },
  {
   "cell_type": "markdown",
   "id": "3404aefe",
   "metadata": {
    "papermill": {},
    "tags": []
   },
   "source": [
    "### Data querying - mapping results to Pandas DataFrame"
   ]
  },
  {
   "cell_type": "code",
   "execution_count": 18,
   "id": "65faa6b1",
   "metadata": {
    "papermill": {},
    "tags": []
   },
   "outputs": [],
   "source": [
    "results_pandas = snowflake.query_pd(query, n=100)\n",
    "\n",
    "print(f'Rows returned: {len(results_pandas)}')\n",
    "results_pandas.head(2)"
   ]
  },
  {
   "cell_type": "markdown",
   "id": "99a577bf",
   "metadata": {
    "papermill": {},
    "tags": []
   },
   "source": [
    "## Extra"
   ]
  },
  {
   "cell_type": "markdown",
   "id": "b2ba09bd",
   "metadata": {
    "papermill": {},
    "tags": []
   },
   "source": [
    "### Objects: `cursor` and `connection`\n",
    "\n",
    "Both provided by Snowflake connector, that allow to execute any functionality possible with the original connector."
   ]
  },
  {
   "cell_type": "code",
   "execution_count": 19,
   "id": "10db25ad",
   "metadata": {
    "papermill": {},
    "tags": []
   },
   "outputs": [],
   "source": [
    "snowflake.cursor.execute('SELECT CURRENT_WAREHOUSE()').fetchall()"
   ]
  },
  {
   "cell_type": "code",
   "execution_count": 20,
   "id": "9527afd8",
   "metadata": {
    "papermill": {},
    "tags": []
   },
   "outputs": [],
   "source": [
    "snowflake.connection.database"
   ]
  }
 ],
 "metadata": {
  "kernelspec": {
   "display_name": "Python 3 (ipykernel)",
   "language": "python",
   "name": "python3"
  },
  "language_info": {
   "codemirror_mode": {
    "name": "ipython",
    "version": 3
   },
   "file_extension": ".py",
   "mimetype": "text/x-python",
   "name": "python",
   "nbconvert_exporter": "python",
   "pygments_lexer": "ipython3",
   "version": "3.8.10"
  },
  "papermill": {
   "default_parameters": {},
   "environment_variables": {},
   "parameters": {},
   "version": "2.4.0"
  }
 },
 "nbformat": 4,
 "nbformat_minor": 5
}