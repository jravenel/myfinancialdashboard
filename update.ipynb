{
 "cells": [
  {
   "cell_type": "markdown",
   "id": "injured-evolution",
   "metadata": {
    "papermill": {},
    "tags": []
   },
   "source": [
    "<img width=\"10%\" alt=\"Naas\" src=\"https://landen.imgix.net/jtci2pxwjczr/assets/5ice39g4.png?w=160\"/>"
   ]
  },
  {
   "cell_type": "markdown",
   "id": "substantial-decline",
   "metadata": {
    "papermill": {},
    "tags": []
   },
   "source": [
    "# Naas - Update project"
   ]
  },
  {
   "cell_type": "markdown",
   "id": "00619b69-5ce8-417a-b8b1-c81af6342f9c",
   "metadata": {
    "papermill": {},
    "tags": []
   },
   "source": [
    "**Tags:** #github #update #pull #snippet #project"
   ]
  },
  {
   "cell_type": "markdown",
   "id": "1446840e-74d1-4c76-afb6-4752a6b4a0c4",
   "metadata": {
    "papermill": {},
    "tags": []
   },
   "source": [
    "**Author:** [Florent Ravenel](https://www.linkedin.com/in/florent-ravenel/)"
   ]
  },
  {
   "cell_type": "markdown",
   "id": "dd3d4d6a-f15d-47f9-83ac-4208edf13bf9",
   "metadata": {
    "tags": []
   },
   "source": [
    "This notebook allows you to update your data product on your Naas server.\n",
    "- This project is developped by Naas open source community, if you like what we have built → [Sponsor us](https://github.com/sponsors/jupyter-naas)\n",
    "- Want to add new features? → [Create issues on GitHub](https://github.com/jupyter-naas/naas-content-engine/issues)\n",
    "\n",
    "Please follow the step below to setup this data product."
   ]
  },
  {
   "cell_type": "markdown",
   "id": "import_cell",
   "metadata": {
    "papermill": {},
    "tags": []
   },
   "source": [
    "## Input"
   ]
  },
  {
   "cell_type": "markdown",
   "id": "3cd28747-89e3-42e9-936d-2db08c773ca7",
   "metadata": {},
   "source": [
    "### Import libraries"
   ]
  },
  {
   "cell_type": "code",
   "execution_count": null,
   "id": "5d76082e-cb5b-42b4-918a-df38514e1865",
   "metadata": {},
   "outputs": [],
   "source": [
    "from pathlib import Path\n",
    "import glob\n",
    "import naas"
   ]
  },
  {
   "cell_type": "markdown",
   "id": "ca838eb8-f583-45f9-a7cd-1b984fadecd1",
   "metadata": {},
   "source": [
    "## Model"
   ]
  },
  {
   "cell_type": "markdown",
   "id": "d61858ce-c422-422a-abda-57f6e118d8f0",
   "metadata": {},
   "source": [
    "### Get project project name"
   ]
  },
  {
   "cell_type": "code",
   "execution_count": null,
   "id": "f8cd9711-d5aa-4356-afe4-5bd5919f02bf",
   "metadata": {},
   "outputs": [],
   "source": [
    "GIT_REPO_PATH = str(Path().parent.absolute())"
   ]
  },
  {
   "cell_type": "markdown",
   "id": "f99f9c76-ce65-4283-96a7-6dfbded7e18e",
   "metadata": {},
   "source": [
    "### Pull GitHub repository"
   ]
  },
  {
   "cell_type": "code",
   "execution_count": null,
   "id": "e096b140-0418-4538-a66d-07c22b0ccbb9",
   "metadata": {
    "tags": []
   },
   "outputs": [],
   "source": [
    "!cd \"$GIT_REPO_PATH\" && git reset --hard && git pull"
   ]
  },
  {
   "cell_type": "markdown",
   "id": "d2e28cc0-d6dc-40fc-aee4-589be376286d",
   "metadata": {},
   "source": [
    "### Install requirements"
   ]
  },
  {
   "cell_type": "code",
   "execution_count": null,
   "id": "4bf588e1-0493-4eef-b420-7218bc5be0ef",
   "metadata": {},
   "outputs": [],
   "source": [
    "!pip install --user -r requirements.txt"
   ]
  },
  {
   "cell_type": "markdown",
   "id": "9610dd49-850f-4121-ba75-f2bacfd99870",
   "metadata": {},
   "source": [
    "### Pushing utils notebooks to production"
   ]
  },
  {
   "cell_type": "code",
   "execution_count": null,
   "id": "a10304c3-934f-444d-99a1-eb2a5bfa5296",
   "metadata": {},
   "outputs": [],
   "source": [
    "utils_files = glob.glob(f\"{GIT_REPO_PATH}/utils/*.ipynb\")\n",
    "for file in utils_files:\n",
    "    print(f\"🔄 Pushing {file} to production\")\n",
    "    naas.dependency.add(file)"
   ]
  },
  {
   "cell_type": "markdown",
   "id": "9cef76a0-54ec-496a-b677-d8fd9954acaa",
   "metadata": {},
   "source": [
    "### Pushing models \"notebooks\" to production"
   ]
  },
  {
   "cell_type": "code",
   "execution_count": null,
   "id": "f8b54bf5-5880-47da-8d13-5a01b6558779",
   "metadata": {},
   "outputs": [],
   "source": [
    "models_files = glob.glob(f\"{GIT_REPO_PATH}/*/*/*.ipynb\")\n",
    "for file in models_files:\n",
    "    print(f\"🔄 Pushing {file} to production\")\n",
    "    naas.dependency.add(file)"
   ]
  },
  {
   "cell_type": "markdown",
   "id": "81d86308-3fc7-4e4a-8dcf-2675785f03e5",
   "metadata": {},
   "source": [
    "## Outputs"
   ]
  },
  {
   "cell_type": "markdown",
   "id": "d793b36a-b4e1-41b3-af59-039b4e9ffe27",
   "metadata": {},
   "source": [
    "### Result"
   ]
  },
  {
   "cell_type": "code",
   "execution_count": null,
   "id": "6804a6ed-4479-4ef2-a2f6-4a08298249bc",
   "metadata": {},
   "outputs": [],
   "source": [
    "print(\"✅ Project successfully updated!\")"
   ]
  }
 ],
 "metadata": {
  "kernelspec": {
   "display_name": "Python 3",
   "language": "python",
   "name": "python3"
  },
  "language_info": {
   "codemirror_mode": {
    "name": "ipython",
    "version": 3
   },
   "file_extension": ".py",
   "mimetype": "text/x-python",
   "name": "python",
   "nbconvert_exporter": "python",
   "pygments_lexer": "ipython3",
   "version": "3.9.6"
  },
  "naas": {
   "notebook_id": "77b7f93a-fb2a-483e-b98b-80735e426a64",
   "notebook_path": "Naas/Naas_Secret_demo.ipynb"
  },
  "papermill": {
   "default_parameters": {},
   "environment_variables": {},
   "parameters": {},
   "version": "2.3.3"
  },
  "toc-autonumbering": false,
  "widgets": {
   "application/vnd.jupyter.widget-state+json": {
    "state": {
     "2138ac7f7cc04bf193dc76deee31ad03": {
      "model_module": "@jupyter-widgets/controls",
      "model_module_version": "1.5.0",
      "model_name": "ButtonModel",
      "state": {
       "description": "Update project",
       "layout": "IPY_MODEL_6970e9465e054c2086d36146dc816677",
       "style": "IPY_MODEL_7eabf697bc5a48ad89d2e841ded256aa"
      }
     },
     "5140dd629bec4b61b7afc3716f63b332": {
      "model_module": "@jupyter-widgets/output",
      "model_module_version": "1.0.0",
      "model_name": "OutputModel",
      "state": {
       "layout": "IPY_MODEL_96447cf8a9e74e0d9a1bd541bdfbea91"
      }
     },
     "6970e9465e054c2086d36146dc816677": {
      "model_module": "@jupyter-widgets/base",
      "model_module_version": "1.2.0",
      "model_name": "LayoutModel",
      "state": {}
     },
     "7eabf697bc5a48ad89d2e841ded256aa": {
      "model_module": "@jupyter-widgets/controls",
      "model_module_version": "1.5.0",
      "model_name": "ButtonStyleModel",
      "state": {}
     },
     "96447cf8a9e74e0d9a1bd541bdfbea91": {
      "model_module": "@jupyter-widgets/base",
      "model_module_version": "1.2.0",
      "model_name": "LayoutModel",
      "state": {}
     }
    },
    "version_major": 2,
    "version_minor": 0
   }
  }
 },
 "nbformat": 4,
 "nbformat_minor": 5
}
